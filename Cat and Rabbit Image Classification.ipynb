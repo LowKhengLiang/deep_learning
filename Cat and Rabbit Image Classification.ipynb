{
 "cells": [
  {
   "cell_type": "code",
   "execution_count": 1,
   "metadata": {
    "id": "J1Da0NHBZtwM"
   },
   "outputs": [],
   "source": [
    "import pandas as pd\n",
    "from tqdm import tqdm\n",
    "import matplotlib.pyplot as plt\n",
    "import seaborn as sns\n",
    "\n",
    "import random\n",
    "\n",
    "from sklearn.model_selection import train_test_split\n",
    "from sklearn.preprocessing import LabelEncoder\n",
    "from sklearn.metrics import classification_report, confusion_matrix\n",
    "\n",
    "from keras.models import Sequential\n",
    "from keras.layers import Dense\n",
    "from keras.layers import Dropout\n",
    "from keras.layers import Flatten\n",
    "from keras.layers import Activation\n",
    "from keras.layers import Conv2D\n",
    "from keras.layers import MaxPooling2D\n",
    "from keras.layers import AveragePooling2D\n",
    "from keras.utils import to_categorical"
   ]
  },
  {
   "cell_type": "markdown",
   "metadata": {
    "id": "Vd3kMl_4g5eT"
   },
   "source": [
    "# Importing Dataset\n",
    "- File is saved to Google drive and imported from there."
   ]
  },
  {
   "cell_type": "code",
   "execution_count": 2,
   "metadata": {
    "colab": {
     "base_uri": "https://localhost:8080/"
    },
    "id": "Q-bjijGUXxH9",
    "outputId": "ea27406e-f43b-40cc-80df-51c056465531"
   },
   "outputs": [
    {
     "name": "stdout",
     "output_type": "stream",
     "text": [
      "Mounted at /content/gdrive\n"
     ]
    }
   ],
   "source": [
    "from google.colab import drive\n",
    "drive.mount('/content/gdrive')"
   ]
  },
  {
   "cell_type": "code",
   "execution_count": 3,
   "metadata": {
    "id": "spb56DbXiauX"
   },
   "outputs": [],
   "source": [
    "import zipfile\n",
    "import os\n",
    "\n",
    "from PIL import Image\n",
    "import IPython.display as display\n",
    "\n",
    "import numpy as np"
   ]
  },
  {
   "cell_type": "code",
   "execution_count": 4,
   "metadata": {
    "id": "fa0H3yk2icud"
   },
   "outputs": [],
   "source": [
    "zip_file_path = '/content/gdrive/My Drive/cat_and_rabbit_folder.zip'\n",
    "\n",
    "extracted_folder_path = '/content/data'\n",
    "\n",
    "with zipfile.ZipFile(zip_file_path, 'r') as zip_ref:\n",
    "    zip_ref.extractall(extracted_folder_path)\n",
    "\n",
    "extracted_files = os.listdir(extracted_folder_path)"
   ]
  },
  {
   "cell_type": "markdown",
   "metadata": {
    "id": "l88Iro8clRLu"
   },
   "source": [
    "### Training Dataset\n",
    "Creating the training dataset"
   ]
  },
  {
   "cell_type": "code",
   "execution_count": 5,
   "metadata": {
    "id": "slF5mYFNi7ou"
   },
   "outputs": [],
   "source": [
    "data_folder = '/content/data/train-cat-rabbit/'\n",
    "\n",
    "categories = os.listdir(data_folder)\n",
    "\n",
    "train_images = {category: [] for category in categories}"
   ]
  },
  {
   "cell_type": "code",
   "execution_count": 6,
   "metadata": {
    "id": "7q4Zk1PXjh-u"
   },
   "outputs": [],
   "source": [
    "#Load images into dictionary\n",
    "for category in categories:\n",
    "    category_folder = os.path.join(data_folder, category)\n",
    "    image_files = [os.path.join(category_folder, img) for img in os.listdir(category_folder) if img.endswith('.jpg')]\n",
    "    train_images[category] = image_files\n"
   ]
  },
  {
   "cell_type": "markdown",
   "metadata": {
    "id": "V_jdcQeflTOv"
   },
   "source": [
    "### Testing Dataset\n",
    "Creating the testing dataset"
   ]
  },
  {
   "cell_type": "code",
   "execution_count": 7,
   "metadata": {
    "id": "ptsV4aGrlU_e"
   },
   "outputs": [],
   "source": [
    "data_folder = '/content/data/val-cat-rabbit/'\n",
    "\n",
    "categories = os.listdir(data_folder)\n",
    "\n",
    "test_images = {category: [] for category in categories}"
   ]
  },
  {
   "cell_type": "code",
   "execution_count": 8,
   "metadata": {
    "id": "UPdmbCL0lbb0"
   },
   "outputs": [],
   "source": [
    "#Load images into dictionary\n",
    "for category in categories:\n",
    "    category_folder = os.path.join(data_folder, category)\n",
    "    image_files = [os.path.join(category_folder, img) for img in os.listdir(category_folder) if img.endswith('.jpg')]\n",
    "    test_images[category] = image_files"
   ]
  },
  {
   "cell_type": "markdown",
   "metadata": {
    "id": "58vjCk-Cmw97"
   },
   "source": [
    "### Processing the dataset into a pandas dataframe"
   ]
  },
  {
   "cell_type": "code",
   "execution_count": 9,
   "metadata": {
    "id": "rtwra-lbluSS"
   },
   "outputs": [],
   "source": [
    "cat_train = []\n",
    "rabbit_train = []\n",
    "\n",
    "cat_test = []\n",
    "rabbit_test = []\n",
    "\n",
    "#Creating training dataframe\n",
    "for key, value in train_images.items():\n",
    "    if key == 'cat':\n",
    "        cat_train.append(value)\n",
    "    else:\n",
    "        rabbit_train.append(value)\n",
    "\n",
    "#Creating testing dataframe\n",
    "for key, value in test_images.items():\n",
    "      if key == 'cat':\n",
    "        cat_test.append(value)\n",
    "    else:\n",
    "        rabbit_test.append(value)\n"
   ]
  },
  {
   "cell_type": "code",
   "execution_count": 10,
   "metadata": {
    "id": "mF96JyMCYm2B"
   },
   "outputs": [],
   "source": [
    "#processing. These are 300 x 300 images\n",
    "cat_train_value = []\n",
    "rabbit_train_value = []\n",
    "\n",
    "cat_test_value = []\n",
    "rabbit_test_value = []\n",
    "\n",
    "for n in cat_train:\n",
    "      for i in n:\n",
    "        cat_train_value.append(i)\n",
    "\n",
    "for n in rabbit_train:\n",
    "      for i in n:\n",
    "        rabbit_train_value.append(i)\n",
    "\n",
    "for n in cat_test:\n",
    "    for i in n:\n",
    "        cat_test_value.append(i)\n",
    "\n",
    "for n in rabbit_test:\n",
    "    for i in n:\n",
    "        rabbit_test_value.append(i)"
   ]
  },
  {
   "cell_type": "code",
   "execution_count": 11,
   "metadata": {
    "colab": {
     "base_uri": "https://localhost:8080/"
    },
    "id": "mbZNJAAaLhas",
    "outputId": "1c770eea-5045-4cfb-ba96-64cce596084e"
   },
   "outputs": [
    {
     "name": "stderr",
     "output_type": "stream",
     "text": [
      "Resizing Images: 100%|██████████| 800/800 [00:02<00:00, 306.27it/s]\n",
      "Resizing Images: 100%|██████████| 800/800 [00:01<00:00, 529.14it/s]\n",
      "Resizing Images: 100%|██████████| 207/207 [00:00<00:00, 520.68it/s]\n",
      "Resizing Images: 100%|██████████| 207/207 [00:00<00:00, 498.55it/s]\n"
     ]
    }
   ],
   "source": [
    "#Resizing image due to processing capabilities\n",
    "cat_train_resize = []\n",
    "rabbit_train_resize = []\n",
    "\n",
    "cat_test_resize = []\n",
    "rabbit_test_resize = []\n",
    "\n",
    "for image in tqdm(cat_train_value, desc='Resizing Images'):\n",
    "    resize = Image.open(image).resize((50, 50))\n",
    "    cat_train_resize.append(resize)\n",
    "\n",
    "for image in tqdm(rabbit_train_value, desc='Resizing Images'):\n",
    "    resize = Image.open(image).resize((50, 50))\n",
    "    rabbit_train_resize.append(resize)\n",
    "\n",
    "for image in tqdm(cat_test_value, desc='Resizing Images'):\n",
    "    resize = Image.open(image).resize((50, 50))\n",
    "    cat_test_resize.append(resize)\n",
    "\n",
    "for image in tqdm(rabbit_test_value, desc='Resizing Images'):\n",
    "    resize = Image.open(image).resize((50, 50))\n",
    "    rabbit_test_resize.append(resize)"
   ]
  },
  {
   "cell_type": "code",
   "execution_count": 12,
   "metadata": {
    "colab": {
     "base_uri": "https://localhost:8080/"
    },
    "id": "m9LHtaErZOK5",
    "outputId": "ffbd5f6b-abe0-49f9-c8eb-31a778829f0a"
   },
   "outputs": [
    {
     "name": "stdout",
     "output_type": "stream",
     "text": [
      "Number of cat training data:  800\n",
      "Number of rabbit training data:  800\n",
      "Number of cat testing data:  207\n",
      "Number of rabbit testing data:  207\n"
     ]
    }
   ],
   "source": [
    "print(\"Number of cat training data: \", len(cat_train_resize))\n",
    "print(\"Number of rabbit training data: \", len(rabbit_train_resize))\n",
    "\n",
    "print(\"Number of cat testing data: \", len(cat_test_resize))\n",
    "print(\"Number of rabbit testing data: \", len(rabbit_test_resize))\n",
    "\n",
    "#Creating labels\n",
    "cat_train_df = pd.DataFrame(cat_train_resize, columns = ['Image'])\n",
    "rabbit_train_df = pd.DataFrame(rabbit_train_resize, columns = ['Image'])\n",
    "\n",
    "cat_test_df = pd.DataFrame(cat_test_resize, columns = ['Image'])\n",
    "rabbit_test_df = pd.DataFrame(rabbit_test_resize, columns = ['Image'])"
   ]
  },
  {
   "cell_type": "code",
   "execution_count": 13,
   "metadata": {
    "id": "7hgrnZ3UaSnZ"
   },
   "outputs": [],
   "source": [
    "cat_train_df['Label'] = 'cat'\n",
    "cat_test_df['Label'] = 'cat'\n",
    "\n",
    "rabbit_train_df['Label'] = 'rabbit'\n",
    "rabbit_test_df['Label'] = 'rabbit'"
   ]
  },
  {
   "cell_type": "code",
   "execution_count": 14,
   "metadata": {
    "id": "WQ8DP3vPaeDI"
   },
   "outputs": [],
   "source": [
    "#Concatenating the rabbit and cat dataframe on top of each other to create a full dataset\n",
    "\n",
    "full_train_df = pd.concat([cat_train_df, rabbit_train_df], axis=0)\n",
    "full_test_df = pd.concat([cat_test_df, rabbit_test_df], axis = 0)"
   ]
  },
  {
   "cell_type": "code",
   "execution_count": 15,
   "metadata": {
    "id": "8S9YtCkNdw0x"
   },
   "outputs": [],
   "source": [
    "#Converts an image to its vector representation\n",
    "def obtain_array(image_path):\n",
    "    return np.array(image_path)"
   ]
  },
  {
   "cell_type": "code",
   "execution_count": 16,
   "metadata": {
    "colab": {
     "base_uri": "https://localhost:8080/"
    },
    "id": "Zd5vsWtmeCjm",
    "outputId": "33e61f30-9e88-4532-b3e7-cea7585ca88c"
   },
   "outputs": [
    {
     "name": "stderr",
     "output_type": "stream",
     "text": [
      "Processing Images: 100%|██████████| 1600/1600 [00:00<00:00, 35146.76it/s]\n",
      "Processing Images: 100%|██████████| 414/414 [00:00<00:00, 37300.32it/s]\n"
     ]
    }
   ],
   "source": [
    "tqdm.pandas(desc='Processing Images') #Track time\n",
    "full_train_df['array'] = full_train_df['Image'].progress_apply(obtain_array)\n",
    "full_test_df['array'] = full_test_df['Image'].progress_apply(obtain_array)"
   ]
  },
  {
   "cell_type": "code",
   "execution_count": 17,
   "metadata": {
    "colab": {
     "base_uri": "https://localhost:8080/",
     "height": 206
    },
    "id": "X8y7yJvze044",
    "outputId": "6bdc028d-f7ea-4710-8a28-1d1893ff8aac"
   },
   "outputs": [
    {
     "data": {
      "text/html": [
       "\n",
       "  <div id=\"df-4c8fd711-659b-474c-9f51-6088ef07e0aa\" class=\"colab-df-container\">\n",
       "    <div>\n",
       "<style scoped>\n",
       "    .dataframe tbody tr th:only-of-type {\n",
       "        vertical-align: middle;\n",
       "    }\n",
       "\n",
       "    .dataframe tbody tr th {\n",
       "        vertical-align: top;\n",
       "    }\n",
       "\n",
       "    .dataframe thead th {\n",
       "        text-align: right;\n",
       "    }\n",
       "</style>\n",
       "<table border=\"1\" class=\"dataframe\">\n",
       "  <thead>\n",
       "    <tr style=\"text-align: right;\">\n",
       "      <th></th>\n",
       "      <th>Image</th>\n",
       "      <th>Label</th>\n",
       "      <th>array</th>\n",
       "    </tr>\n",
       "  </thead>\n",
       "  <tbody>\n",
       "    <tr>\n",
       "      <th>0</th>\n",
       "      <td>&lt;PIL.Image.Image image mode=RGB size=50x50 at ...</td>\n",
       "      <td>cat</td>\n",
       "      <td>[[[39, 32, 20], [30, 17, 4], [27, 18, 3], [43,...</td>\n",
       "    </tr>\n",
       "    <tr>\n",
       "      <th>1</th>\n",
       "      <td>&lt;PIL.Image.Image image mode=RGB size=50x50 at ...</td>\n",
       "      <td>cat</td>\n",
       "      <td>[[[167, 165, 173], [184, 184, 193], [180, 184,...</td>\n",
       "    </tr>\n",
       "    <tr>\n",
       "      <th>2</th>\n",
       "      <td>&lt;PIL.Image.Image image mode=RGB size=50x50 at ...</td>\n",
       "      <td>cat</td>\n",
       "      <td>[[[50, 65, 65], [42, 55, 53], [43, 56, 59], [5...</td>\n",
       "    </tr>\n",
       "    <tr>\n",
       "      <th>3</th>\n",
       "      <td>&lt;PIL.Image.Image image mode=RGB size=50x50 at ...</td>\n",
       "      <td>cat</td>\n",
       "      <td>[[[59, 58, 56], [60, 61, 59], [62, 64, 63], [6...</td>\n",
       "    </tr>\n",
       "    <tr>\n",
       "      <th>4</th>\n",
       "      <td>&lt;PIL.Image.Image image mode=RGB size=50x50 at ...</td>\n",
       "      <td>cat</td>\n",
       "      <td>[[[64, 63, 58], [46, 46, 42], [39, 37, 37], [3...</td>\n",
       "    </tr>\n",
       "  </tbody>\n",
       "</table>\n",
       "</div>\n",
       "    <div class=\"colab-df-buttons\">\n",
       "\n",
       "  <div class=\"colab-df-container\">\n",
       "    <button class=\"colab-df-convert\" onclick=\"convertToInteractive('df-4c8fd711-659b-474c-9f51-6088ef07e0aa')\"\n",
       "            title=\"Convert this dataframe to an interactive table.\"\n",
       "            style=\"display:none;\">\n",
       "\n",
       "  <svg xmlns=\"http://www.w3.org/2000/svg\" height=\"24px\" viewBox=\"0 -960 960 960\">\n",
       "    <path d=\"M120-120v-720h720v720H120Zm60-500h600v-160H180v160Zm220 220h160v-160H400v160Zm0 220h160v-160H400v160ZM180-400h160v-160H180v160Zm440 0h160v-160H620v160ZM180-180h160v-160H180v160Zm440 0h160v-160H620v160Z\"/>\n",
       "  </svg>\n",
       "    </button>\n",
       "\n",
       "  <style>\n",
       "    .colab-df-container {\n",
       "      display:flex;\n",
       "      gap: 12px;\n",
       "    }\n",
       "\n",
       "    .colab-df-convert {\n",
       "      background-color: #E8F0FE;\n",
       "      border: none;\n",
       "      border-radius: 50%;\n",
       "      cursor: pointer;\n",
       "      display: none;\n",
       "      fill: #1967D2;\n",
       "      height: 32px;\n",
       "      padding: 0 0 0 0;\n",
       "      width: 32px;\n",
       "    }\n",
       "\n",
       "    .colab-df-convert:hover {\n",
       "      background-color: #E2EBFA;\n",
       "      box-shadow: 0px 1px 2px rgba(60, 64, 67, 0.3), 0px 1px 3px 1px rgba(60, 64, 67, 0.15);\n",
       "      fill: #174EA6;\n",
       "    }\n",
       "\n",
       "    .colab-df-buttons div {\n",
       "      margin-bottom: 4px;\n",
       "    }\n",
       "\n",
       "    [theme=dark] .colab-df-convert {\n",
       "      background-color: #3B4455;\n",
       "      fill: #D2E3FC;\n",
       "    }\n",
       "\n",
       "    [theme=dark] .colab-df-convert:hover {\n",
       "      background-color: #434B5C;\n",
       "      box-shadow: 0px 1px 3px 1px rgba(0, 0, 0, 0.15);\n",
       "      filter: drop-shadow(0px 1px 2px rgba(0, 0, 0, 0.3));\n",
       "      fill: #FFFFFF;\n",
       "    }\n",
       "  </style>\n",
       "\n",
       "    <script>\n",
       "      const buttonEl =\n",
       "        document.querySelector('#df-4c8fd711-659b-474c-9f51-6088ef07e0aa button.colab-df-convert');\n",
       "      buttonEl.style.display =\n",
       "        google.colab.kernel.accessAllowed ? 'block' : 'none';\n",
       "\n",
       "      async function convertToInteractive(key) {\n",
       "        const element = document.querySelector('#df-4c8fd711-659b-474c-9f51-6088ef07e0aa');\n",
       "        const dataTable =\n",
       "          await google.colab.kernel.invokeFunction('convertToInteractive',\n",
       "                                                    [key], {});\n",
       "        if (!dataTable) return;\n",
       "\n",
       "        const docLinkHtml = 'Like what you see? Visit the ' +\n",
       "          '<a target=\"_blank\" href=https://colab.research.google.com/notebooks/data_table.ipynb>data table notebook</a>'\n",
       "          + ' to learn more about interactive tables.';\n",
       "        element.innerHTML = '';\n",
       "        dataTable['output_type'] = 'display_data';\n",
       "        await google.colab.output.renderOutput(dataTable, element);\n",
       "        const docLink = document.createElement('div');\n",
       "        docLink.innerHTML = docLinkHtml;\n",
       "        element.appendChild(docLink);\n",
       "      }\n",
       "    </script>\n",
       "  </div>\n",
       "\n",
       "\n",
       "<div id=\"df-a4ae9fb4-5768-4edf-a79c-85d3e7489456\">\n",
       "  <button class=\"colab-df-quickchart\" onclick=\"quickchart('df-a4ae9fb4-5768-4edf-a79c-85d3e7489456')\"\n",
       "            title=\"Suggest charts.\"\n",
       "            style=\"display:none;\">\n",
       "\n",
       "<svg xmlns=\"http://www.w3.org/2000/svg\" height=\"24px\"viewBox=\"0 0 24 24\"\n",
       "     width=\"24px\">\n",
       "    <g>\n",
       "        <path d=\"M19 3H5c-1.1 0-2 .9-2 2v14c0 1.1.9 2 2 2h14c1.1 0 2-.9 2-2V5c0-1.1-.9-2-2-2zM9 17H7v-7h2v7zm4 0h-2V7h2v10zm4 0h-2v-4h2v4z\"/>\n",
       "    </g>\n",
       "</svg>\n",
       "  </button>\n",
       "\n",
       "<style>\n",
       "  .colab-df-quickchart {\n",
       "      --bg-color: #E8F0FE;\n",
       "      --fill-color: #1967D2;\n",
       "      --hover-bg-color: #E2EBFA;\n",
       "      --hover-fill-color: #174EA6;\n",
       "      --disabled-fill-color: #AAA;\n",
       "      --disabled-bg-color: #DDD;\n",
       "  }\n",
       "\n",
       "  [theme=dark] .colab-df-quickchart {\n",
       "      --bg-color: #3B4455;\n",
       "      --fill-color: #D2E3FC;\n",
       "      --hover-bg-color: #434B5C;\n",
       "      --hover-fill-color: #FFFFFF;\n",
       "      --disabled-bg-color: #3B4455;\n",
       "      --disabled-fill-color: #666;\n",
       "  }\n",
       "\n",
       "  .colab-df-quickchart {\n",
       "    background-color: var(--bg-color);\n",
       "    border: none;\n",
       "    border-radius: 50%;\n",
       "    cursor: pointer;\n",
       "    display: none;\n",
       "    fill: var(--fill-color);\n",
       "    height: 32px;\n",
       "    padding: 0;\n",
       "    width: 32px;\n",
       "  }\n",
       "\n",
       "  .colab-df-quickchart:hover {\n",
       "    background-color: var(--hover-bg-color);\n",
       "    box-shadow: 0 1px 2px rgba(60, 64, 67, 0.3), 0 1px 3px 1px rgba(60, 64, 67, 0.15);\n",
       "    fill: var(--button-hover-fill-color);\n",
       "  }\n",
       "\n",
       "  .colab-df-quickchart-complete:disabled,\n",
       "  .colab-df-quickchart-complete:disabled:hover {\n",
       "    background-color: var(--disabled-bg-color);\n",
       "    fill: var(--disabled-fill-color);\n",
       "    box-shadow: none;\n",
       "  }\n",
       "\n",
       "  .colab-df-spinner {\n",
       "    border: 2px solid var(--fill-color);\n",
       "    border-color: transparent;\n",
       "    border-bottom-color: var(--fill-color);\n",
       "    animation:\n",
       "      spin 1s steps(1) infinite;\n",
       "  }\n",
       "\n",
       "  @keyframes spin {\n",
       "    0% {\n",
       "      border-color: transparent;\n",
       "      border-bottom-color: var(--fill-color);\n",
       "      border-left-color: var(--fill-color);\n",
       "    }\n",
       "    20% {\n",
       "      border-color: transparent;\n",
       "      border-left-color: var(--fill-color);\n",
       "      border-top-color: var(--fill-color);\n",
       "    }\n",
       "    30% {\n",
       "      border-color: transparent;\n",
       "      border-left-color: var(--fill-color);\n",
       "      border-top-color: var(--fill-color);\n",
       "      border-right-color: var(--fill-color);\n",
       "    }\n",
       "    40% {\n",
       "      border-color: transparent;\n",
       "      border-right-color: var(--fill-color);\n",
       "      border-top-color: var(--fill-color);\n",
       "    }\n",
       "    60% {\n",
       "      border-color: transparent;\n",
       "      border-right-color: var(--fill-color);\n",
       "    }\n",
       "    80% {\n",
       "      border-color: transparent;\n",
       "      border-right-color: var(--fill-color);\n",
       "      border-bottom-color: var(--fill-color);\n",
       "    }\n",
       "    90% {\n",
       "      border-color: transparent;\n",
       "      border-bottom-color: var(--fill-color);\n",
       "    }\n",
       "  }\n",
       "</style>\n",
       "\n",
       "  <script>\n",
       "    async function quickchart(key) {\n",
       "      const quickchartButtonEl =\n",
       "        document.querySelector('#' + key + ' button');\n",
       "      quickchartButtonEl.disabled = true;  // To prevent multiple clicks.\n",
       "      quickchartButtonEl.classList.add('colab-df-spinner');\n",
       "      try {\n",
       "        const charts = await google.colab.kernel.invokeFunction(\n",
       "            'suggestCharts', [key], {});\n",
       "      } catch (error) {\n",
       "        console.error('Error during call to suggestCharts:', error);\n",
       "      }\n",
       "      quickchartButtonEl.classList.remove('colab-df-spinner');\n",
       "      quickchartButtonEl.classList.add('colab-df-quickchart-complete');\n",
       "    }\n",
       "    (() => {\n",
       "      let quickchartButtonEl =\n",
       "        document.querySelector('#df-a4ae9fb4-5768-4edf-a79c-85d3e7489456 button');\n",
       "      quickchartButtonEl.style.display =\n",
       "        google.colab.kernel.accessAllowed ? 'block' : 'none';\n",
       "    })();\n",
       "  </script>\n",
       "</div>\n",
       "    </div>\n",
       "  </div>\n"
      ],
      "text/plain": [
       "                                               Image Label  \\\n",
       "0  <PIL.Image.Image image mode=RGB size=50x50 at ...   cat   \n",
       "1  <PIL.Image.Image image mode=RGB size=50x50 at ...   cat   \n",
       "2  <PIL.Image.Image image mode=RGB size=50x50 at ...   cat   \n",
       "3  <PIL.Image.Image image mode=RGB size=50x50 at ...   cat   \n",
       "4  <PIL.Image.Image image mode=RGB size=50x50 at ...   cat   \n",
       "\n",
       "                                               array  \n",
       "0  [[[39, 32, 20], [30, 17, 4], [27, 18, 3], [43,...  \n",
       "1  [[[167, 165, 173], [184, 184, 193], [180, 184,...  \n",
       "2  [[[50, 65, 65], [42, 55, 53], [43, 56, 59], [5...  \n",
       "3  [[[59, 58, 56], [60, 61, 59], [62, 64, 63], [6...  \n",
       "4  [[[64, 63, 58], [46, 46, 42], [39, 37, 37], [3...  "
      ]
     },
     "execution_count": 17,
     "metadata": {},
     "output_type": "execute_result"
    }
   ],
   "source": [
    "full_train_df.head()"
   ]
  },
  {
   "cell_type": "code",
   "execution_count": 18,
   "metadata": {
    "colab": {
     "base_uri": "https://localhost:8080/",
     "height": 206
    },
    "id": "G_Bn6fwjigsc",
    "outputId": "9cb40c57-23b5-4c61-c9fb-c1b8e1303cf6"
   },
   "outputs": [
    {
     "data": {
      "text/html": [
       "\n",
       "  <div id=\"df-c3bcad7c-d073-450a-9326-9931c87ccc06\" class=\"colab-df-container\">\n",
       "    <div>\n",
       "<style scoped>\n",
       "    .dataframe tbody tr th:only-of-type {\n",
       "        vertical-align: middle;\n",
       "    }\n",
       "\n",
       "    .dataframe tbody tr th {\n",
       "        vertical-align: top;\n",
       "    }\n",
       "\n",
       "    .dataframe thead th {\n",
       "        text-align: right;\n",
       "    }\n",
       "</style>\n",
       "<table border=\"1\" class=\"dataframe\">\n",
       "  <thead>\n",
       "    <tr style=\"text-align: right;\">\n",
       "      <th></th>\n",
       "      <th>Image</th>\n",
       "      <th>Label</th>\n",
       "      <th>array</th>\n",
       "    </tr>\n",
       "  </thead>\n",
       "  <tbody>\n",
       "    <tr>\n",
       "      <th>0</th>\n",
       "      <td>&lt;PIL.Image.Image image mode=RGB size=50x50 at ...</td>\n",
       "      <td>cat</td>\n",
       "      <td>[[[193, 166, 165], [176, 157, 168], [163, 151,...</td>\n",
       "    </tr>\n",
       "    <tr>\n",
       "      <th>1</th>\n",
       "      <td>&lt;PIL.Image.Image image mode=RGB size=50x50 at ...</td>\n",
       "      <td>cat</td>\n",
       "      <td>[[[48, 63, 37], [45, 77, 42], [42, 77, 39], [4...</td>\n",
       "    </tr>\n",
       "    <tr>\n",
       "      <th>2</th>\n",
       "      <td>&lt;PIL.Image.Image image mode=RGB size=50x50 at ...</td>\n",
       "      <td>cat</td>\n",
       "      <td>[[[136, 134, 113], [137, 135, 114], [139, 136,...</td>\n",
       "    </tr>\n",
       "    <tr>\n",
       "      <th>3</th>\n",
       "      <td>&lt;PIL.Image.Image image mode=RGB size=50x50 at ...</td>\n",
       "      <td>cat</td>\n",
       "      <td>[[[93, 94, 113], [92, 93, 114], [93, 94, 115],...</td>\n",
       "    </tr>\n",
       "    <tr>\n",
       "      <th>4</th>\n",
       "      <td>&lt;PIL.Image.Image image mode=RGB size=50x50 at ...</td>\n",
       "      <td>cat</td>\n",
       "      <td>[[[132, 142, 141], [134, 144, 142], [133, 144,...</td>\n",
       "    </tr>\n",
       "  </tbody>\n",
       "</table>\n",
       "</div>\n",
       "    <div class=\"colab-df-buttons\">\n",
       "\n",
       "  <div class=\"colab-df-container\">\n",
       "    <button class=\"colab-df-convert\" onclick=\"convertToInteractive('df-c3bcad7c-d073-450a-9326-9931c87ccc06')\"\n",
       "            title=\"Convert this dataframe to an interactive table.\"\n",
       "            style=\"display:none;\">\n",
       "\n",
       "  <svg xmlns=\"http://www.w3.org/2000/svg\" height=\"24px\" viewBox=\"0 -960 960 960\">\n",
       "    <path d=\"M120-120v-720h720v720H120Zm60-500h600v-160H180v160Zm220 220h160v-160H400v160Zm0 220h160v-160H400v160ZM180-400h160v-160H180v160Zm440 0h160v-160H620v160ZM180-180h160v-160H180v160Zm440 0h160v-160H620v160Z\"/>\n",
       "  </svg>\n",
       "    </button>\n",
       "\n",
       "  <style>\n",
       "    .colab-df-container {\n",
       "      display:flex;\n",
       "      gap: 12px;\n",
       "    }\n",
       "\n",
       "    .colab-df-convert {\n",
       "      background-color: #E8F0FE;\n",
       "      border: none;\n",
       "      border-radius: 50%;\n",
       "      cursor: pointer;\n",
       "      display: none;\n",
       "      fill: #1967D2;\n",
       "      height: 32px;\n",
       "      padding: 0 0 0 0;\n",
       "      width: 32px;\n",
       "    }\n",
       "\n",
       "    .colab-df-convert:hover {\n",
       "      background-color: #E2EBFA;\n",
       "      box-shadow: 0px 1px 2px rgba(60, 64, 67, 0.3), 0px 1px 3px 1px rgba(60, 64, 67, 0.15);\n",
       "      fill: #174EA6;\n",
       "    }\n",
       "\n",
       "    .colab-df-buttons div {\n",
       "      margin-bottom: 4px;\n",
       "    }\n",
       "\n",
       "    [theme=dark] .colab-df-convert {\n",
       "      background-color: #3B4455;\n",
       "      fill: #D2E3FC;\n",
       "    }\n",
       "\n",
       "    [theme=dark] .colab-df-convert:hover {\n",
       "      background-color: #434B5C;\n",
       "      box-shadow: 0px 1px 3px 1px rgba(0, 0, 0, 0.15);\n",
       "      filter: drop-shadow(0px 1px 2px rgba(0, 0, 0, 0.3));\n",
       "      fill: #FFFFFF;\n",
       "    }\n",
       "  </style>\n",
       "\n",
       "    <script>\n",
       "      const buttonEl =\n",
       "        document.querySelector('#df-c3bcad7c-d073-450a-9326-9931c87ccc06 button.colab-df-convert');\n",
       "      buttonEl.style.display =\n",
       "        google.colab.kernel.accessAllowed ? 'block' : 'none';\n",
       "\n",
       "      async function convertToInteractive(key) {\n",
       "        const element = document.querySelector('#df-c3bcad7c-d073-450a-9326-9931c87ccc06');\n",
       "        const dataTable =\n",
       "          await google.colab.kernel.invokeFunction('convertToInteractive',\n",
       "                                                    [key], {});\n",
       "        if (!dataTable) return;\n",
       "\n",
       "        const docLinkHtml = 'Like what you see? Visit the ' +\n",
       "          '<a target=\"_blank\" href=https://colab.research.google.com/notebooks/data_table.ipynb>data table notebook</a>'\n",
       "          + ' to learn more about interactive tables.';\n",
       "        element.innerHTML = '';\n",
       "        dataTable['output_type'] = 'display_data';\n",
       "        await google.colab.output.renderOutput(dataTable, element);\n",
       "        const docLink = document.createElement('div');\n",
       "        docLink.innerHTML = docLinkHtml;\n",
       "        element.appendChild(docLink);\n",
       "      }\n",
       "    </script>\n",
       "  </div>\n",
       "\n",
       "\n",
       "<div id=\"df-33b0d932-9613-46d8-a6e4-ef91b3a1dc2c\">\n",
       "  <button class=\"colab-df-quickchart\" onclick=\"quickchart('df-33b0d932-9613-46d8-a6e4-ef91b3a1dc2c')\"\n",
       "            title=\"Suggest charts.\"\n",
       "            style=\"display:none;\">\n",
       "\n",
       "<svg xmlns=\"http://www.w3.org/2000/svg\" height=\"24px\"viewBox=\"0 0 24 24\"\n",
       "     width=\"24px\">\n",
       "    <g>\n",
       "        <path d=\"M19 3H5c-1.1 0-2 .9-2 2v14c0 1.1.9 2 2 2h14c1.1 0 2-.9 2-2V5c0-1.1-.9-2-2-2zM9 17H7v-7h2v7zm4 0h-2V7h2v10zm4 0h-2v-4h2v4z\"/>\n",
       "    </g>\n",
       "</svg>\n",
       "  </button>\n",
       "\n",
       "<style>\n",
       "  .colab-df-quickchart {\n",
       "      --bg-color: #E8F0FE;\n",
       "      --fill-color: #1967D2;\n",
       "      --hover-bg-color: #E2EBFA;\n",
       "      --hover-fill-color: #174EA6;\n",
       "      --disabled-fill-color: #AAA;\n",
       "      --disabled-bg-color: #DDD;\n",
       "  }\n",
       "\n",
       "  [theme=dark] .colab-df-quickchart {\n",
       "      --bg-color: #3B4455;\n",
       "      --fill-color: #D2E3FC;\n",
       "      --hover-bg-color: #434B5C;\n",
       "      --hover-fill-color: #FFFFFF;\n",
       "      --disabled-bg-color: #3B4455;\n",
       "      --disabled-fill-color: #666;\n",
       "  }\n",
       "\n",
       "  .colab-df-quickchart {\n",
       "    background-color: var(--bg-color);\n",
       "    border: none;\n",
       "    border-radius: 50%;\n",
       "    cursor: pointer;\n",
       "    display: none;\n",
       "    fill: var(--fill-color);\n",
       "    height: 32px;\n",
       "    padding: 0;\n",
       "    width: 32px;\n",
       "  }\n",
       "\n",
       "  .colab-df-quickchart:hover {\n",
       "    background-color: var(--hover-bg-color);\n",
       "    box-shadow: 0 1px 2px rgba(60, 64, 67, 0.3), 0 1px 3px 1px rgba(60, 64, 67, 0.15);\n",
       "    fill: var(--button-hover-fill-color);\n",
       "  }\n",
       "\n",
       "  .colab-df-quickchart-complete:disabled,\n",
       "  .colab-df-quickchart-complete:disabled:hover {\n",
       "    background-color: var(--disabled-bg-color);\n",
       "    fill: var(--disabled-fill-color);\n",
       "    box-shadow: none;\n",
       "  }\n",
       "\n",
       "  .colab-df-spinner {\n",
       "    border: 2px solid var(--fill-color);\n",
       "    border-color: transparent;\n",
       "    border-bottom-color: var(--fill-color);\n",
       "    animation:\n",
       "      spin 1s steps(1) infinite;\n",
       "  }\n",
       "\n",
       "  @keyframes spin {\n",
       "    0% {\n",
       "      border-color: transparent;\n",
       "      border-bottom-color: var(--fill-color);\n",
       "      border-left-color: var(--fill-color);\n",
       "    }\n",
       "    20% {\n",
       "      border-color: transparent;\n",
       "      border-left-color: var(--fill-color);\n",
       "      border-top-color: var(--fill-color);\n",
       "    }\n",
       "    30% {\n",
       "      border-color: transparent;\n",
       "      border-left-color: var(--fill-color);\n",
       "      border-top-color: var(--fill-color);\n",
       "      border-right-color: var(--fill-color);\n",
       "    }\n",
       "    40% {\n",
       "      border-color: transparent;\n",
       "      border-right-color: var(--fill-color);\n",
       "      border-top-color: var(--fill-color);\n",
       "    }\n",
       "    60% {\n",
       "      border-color: transparent;\n",
       "      border-right-color: var(--fill-color);\n",
       "    }\n",
       "    80% {\n",
       "      border-color: transparent;\n",
       "      border-right-color: var(--fill-color);\n",
       "      border-bottom-color: var(--fill-color);\n",
       "    }\n",
       "    90% {\n",
       "      border-color: transparent;\n",
       "      border-bottom-color: var(--fill-color);\n",
       "    }\n",
       "  }\n",
       "</style>\n",
       "\n",
       "  <script>\n",
       "    async function quickchart(key) {\n",
       "      const quickchartButtonEl =\n",
       "        document.querySelector('#' + key + ' button');\n",
       "      quickchartButtonEl.disabled = true;  // To prevent multiple clicks.\n",
       "      quickchartButtonEl.classList.add('colab-df-spinner');\n",
       "      try {\n",
       "        const charts = await google.colab.kernel.invokeFunction(\n",
       "            'suggestCharts', [key], {});\n",
       "      } catch (error) {\n",
       "        console.error('Error during call to suggestCharts:', error);\n",
       "      }\n",
       "      quickchartButtonEl.classList.remove('colab-df-spinner');\n",
       "      quickchartButtonEl.classList.add('colab-df-quickchart-complete');\n",
       "    }\n",
       "    (() => {\n",
       "      let quickchartButtonEl =\n",
       "        document.querySelector('#df-33b0d932-9613-46d8-a6e4-ef91b3a1dc2c button');\n",
       "      quickchartButtonEl.style.display =\n",
       "        google.colab.kernel.accessAllowed ? 'block' : 'none';\n",
       "    })();\n",
       "  </script>\n",
       "</div>\n",
       "    </div>\n",
       "  </div>\n"
      ],
      "text/plain": [
       "                                               Image Label  \\\n",
       "0  <PIL.Image.Image image mode=RGB size=50x50 at ...   cat   \n",
       "1  <PIL.Image.Image image mode=RGB size=50x50 at ...   cat   \n",
       "2  <PIL.Image.Image image mode=RGB size=50x50 at ...   cat   \n",
       "3  <PIL.Image.Image image mode=RGB size=50x50 at ...   cat   \n",
       "4  <PIL.Image.Image image mode=RGB size=50x50 at ...   cat   \n",
       "\n",
       "                                               array  \n",
       "0  [[[193, 166, 165], [176, 157, 168], [163, 151,...  \n",
       "1  [[[48, 63, 37], [45, 77, 42], [42, 77, 39], [4...  \n",
       "2  [[[136, 134, 113], [137, 135, 114], [139, 136,...  \n",
       "3  [[[93, 94, 113], [92, 93, 114], [93, 94, 115],...  \n",
       "4  [[[132, 142, 141], [134, 144, 142], [133, 144,...  "
      ]
     },
     "execution_count": 18,
     "metadata": {},
     "output_type": "execute_result"
    }
   ],
   "source": [
    "full_test_df.head()"
   ]
  },
  {
   "cell_type": "markdown",
   "metadata": {
    "id": "N6fIH2VAjGtg"
   },
   "source": [
    "#Exploratory Data Analysis conclusion\n",
    "- The original image is 300 pixels by 300 pixels by 3 Dimensions. RGB. This is resized to 50 pixels by 50 pixels by 3 Dimensions due to the limited computational resources available.\n",
    "- There are 800 cat images and 800 rabbit images in the training dataset (which will be used to further split into validation set later on)\n",
    "- There are 207 cat images and 207 rabbit images in the testing dataset (which will be used for performance evaluation)\n",
    "- Labels are manually provided for cat and rabbit.\n",
    "- A vector representation is created to prepare the data for CNN"
   ]
  },
  {
   "cell_type": "markdown",
   "metadata": {
    "id": "I7Ly80Lsluib"
   },
   "source": [
    "# Show a random sample of 6 cats and rabbits"
   ]
  },
  {
   "cell_type": "code",
   "execution_count": 19,
   "metadata": {
    "colab": {
     "base_uri": "https://localhost:8080/"
    },
    "id": "WT3Fsv_7fZZU",
    "outputId": "b01f4d0b-bec2-4147-9a53-88f3aee47637"
   },
   "outputs": [
    {
     "name": "stdout",
     "output_type": "stream",
     "text": [
      "[305, 435, 376, 36, 249, 429]\n",
      "[810, 1422, 805, 1523, 1154, 1466]\n"
     ]
    }
   ],
   "source": [
    "#I prepared the data where first 800 is cat last 800 is rabbit\n",
    "cat_rand_list = random.sample(range(0, 801), 6)\n",
    "print(cat_rand_list)\n",
    "rabbit_rand_list = random.sample(range(801,1601), 6)\n",
    "print(rabbit_rand_list)"
   ]
  },
  {
   "cell_type": "code",
   "execution_count": 20,
   "metadata": {
    "colab": {
     "base_uri": "https://localhost:8080/",
     "height": 317
    },
    "id": "4d5v5cBXliAL",
    "outputId": "22aaeb65-abbc-43e3-f617-d158d6b606d0"
   },
   "outputs": [
    {
     "data": {
      "image/png": "[encoded data removed]",
      "text/plain": [
       "<PIL.Image.Image image mode=RGB size=50x50>"
      ]
     },
     "metadata": {},
     "output_type": "display_data"
    },
    {
     "data": {
      "image/png": "[encoded data removed]",
      "text/plain": [
       "<PIL.Image.Image image mode=RGB size=50x50>"
      ]
     },
     "metadata": {},
     "output_type": "display_data"
    },
    {
     "data": {
      "image/png": "[encoded data removed]",
      "text/plain": [
       "<PIL.Image.Image image mode=RGB size=50x50>"
      ]
     },
     "metadata": {},
     "output_type": "display_data"
    },
    {
     "data": {
      "image/png": "[encoded data removed]",
      "text/plain": [
       "<PIL.Image.Image image mode=RGB size=50x50>"
      ]
     },
     "metadata": {},
     "output_type": "display_data"
    },
    {
     "data": {
      "image/png": "[encoded data removed]",
      "text/plain": [
       "<PIL.Image.Image image mode=RGB size=50x50>"
      ]
     },
     "metadata": {},
     "output_type": "display_data"
    },
    {
     "data": {
      "image/png": "[encoded data removed]",
      "text/plain": [
       "<PIL.Image.Image image mode=RGB size=50x50>"
      ]
     },
     "metadata": {},
     "output_type": "display_data"
    }
   ],
   "source": [
    "#6 random cats\n",
    "for i in cat_rand_list:\n",
    "    image = full_train_df.iloc[i]['Image']\n",
    "    display.display(image)"
   ]
  },
  {
   "cell_type": "code",
   "execution_count": 21,
   "metadata": {
    "colab": {
     "base_uri": "https://localhost:8080/",
     "height": 317
    },
    "id": "_goRTm6SgK3Y",
    "outputId": "79abbc2b-5e1a-4e52-9ef9-d9cd5f705dd6"
   },
   "outputs": [
    {
     "data": {
      "image/png": "[encoded data removed]",
      "text/plain": [
       "<PIL.Image.Image image mode=RGB size=50x50>"
      ]
     },
     "metadata": {},
     "output_type": "display_data"
    },
    {
     "data": {
      "image/png": "[encoded data removed]",
      "text/plain": [
       "<PIL.Image.Image image mode=RGB size=50x50>"
      ]
     },
     "metadata": {},
     "output_type": "display_data"
    },
    {
     "data": {
      "image/png": "[encoded data removed]",
      "text/plain": [
       "<PIL.Image.Image image mode=RGB size=50x50>"
      ]
     },
     "metadata": {},
     "output_type": "display_data"
    },
    {
     "data": {
      "image/png": "[encoded data removed]",
      "text/plain": [
       "<PIL.Image.Image image mode=RGB size=50x50>"
      ]
     },
     "metadata": {},
     "output_type": "display_data"
    },
    {
     "data": {
      "image/png": "[encoded data removed]",
      "text/plain": [
       "<PIL.Image.Image image mode=RGB size=50x50>"
      ]
     },
     "metadata": {},
     "output_type": "display_data"
    },
    {
     "data": {
      "image/png": "[encoded data removed]",
      "text/plain": [
       "<PIL.Image.Image image mode=RGB size=50x50>"
      ]
     },
     "metadata": {},
     "output_type": "display_data"
    }
   ],
   "source": [
    "#6 random rabbits\n",
    "for i in rabbit_rand_list:\n",
    "    image = full_train_df.iloc[i]['Image']\n",
    "    display.display(image)"
   ]
  },
  {
   "cell_type": "markdown",
   "metadata": {
    "id": "S1h70y5vjs6g"
   },
   "source": [
    "# Data preparation\n",
    "- x train, y_train\n",
    "- x test, y test"
   ]
  },
  {
   "cell_type": "code",
   "execution_count": 22,
   "metadata": {
    "id": "NzyeVZ1skKjZ"
   },
   "outputs": [],
   "source": [
    "#Training dataset, splitting will be done during model fitting for validation set\n",
    "y_train = full_train_df['Label']\n",
    "x_train = full_train_df.drop(columns = ['Image', 'Label'])\n",
    "\n",
    "y_test = full_test_df['Label']\n",
    "x_test = full_test_df.drop(columns = ['Image', 'Label'])"
   ]
  },
  {
   "cell_type": "code",
   "execution_count": 23,
   "metadata": {
    "colab": {
     "base_uri": "https://localhost:8080/"
    },
    "id": "Xr48hkY2nIGM",
    "outputId": "059e6c33-d3af-4628-efdc-b8d12035db90"
   },
   "outputs": [
    {
     "name": "stdout",
     "output_type": "stream",
     "text": [
      "(1600,)\n",
      "(1600, 1)\n",
      "(414,)\n",
      "(414, 1)\n"
     ]
    }
   ],
   "source": [
    "print(y_train.shape)\n",
    "print(x_train.shape)\n",
    "print(y_test.shape)\n",
    "print(x_test.shape)"
   ]
  },
  {
   "cell_type": "code",
   "execution_count": 24,
   "metadata": {
    "id": "844tLKDtGx3s"
   },
   "outputs": [],
   "source": [
    "#Converting to higher dimension vector\n",
    "x_train = x_train['array'].values\n",
    "x_train = np.stack(x_train, axis=0)"
   ]
  },
  {
   "cell_type": "code",
   "execution_count": 25,
   "metadata": {
    "id": "GvGDZENoG_oV"
   },
   "outputs": [],
   "source": [
    "#Converting to vector\n",
    "x_test = x_test['array'].values\n",
    "x_test = np.stack(x_test, axis=0)"
   ]
  },
  {
   "cell_type": "code",
   "execution_count": 26,
   "metadata": {
    "colab": {
     "base_uri": "https://localhost:8080/"
    },
    "id": "A520mpMlG9hG",
    "outputId": "914bcd39-5d80-4fe9-dee3-581301118758"
   },
   "outputs": [
    {
     "name": "stdout",
     "output_type": "stream",
     "text": [
      "(1600, 50, 50, 3)\n",
      "(414, 50, 50, 3)\n"
     ]
    }
   ],
   "source": [
    "print(x_train.shape)\n",
    "print(x_test.shape)"
   ]
  },
  {
   "cell_type": "code",
   "execution_count": 27,
   "metadata": {
    "colab": {
     "base_uri": "https://localhost:8080/"
    },
    "id": "r2hMJA_gHSyb",
    "outputId": "d9aa7b6e-9321-4a7e-e578-ef257e78bb23"
   },
   "outputs": [
    {
     "name": "stdout",
     "output_type": "stream",
     "text": [
      "0    cat\n",
      "1    cat\n",
      "2    cat\n",
      "3    cat\n",
      "4    cat\n",
      "Name: Label, dtype: object\n",
      "0    cat\n",
      "1    cat\n",
      "2    cat\n",
      "3    cat\n",
      "4    cat\n",
      "Name: Label, dtype: object\n"
     ]
    }
   ],
   "source": [
    "print(y_train[0:5])\n",
    "print(y_test[0:5])"
   ]
  },
  {
   "cell_type": "code",
   "execution_count": 28,
   "metadata": {
    "id": "NU2WTuaaod8Y"
   },
   "outputs": [],
   "source": [
    "#Encoding all the y values\n",
    "label_encoder = LabelEncoder()\n",
    "y_train = label_encoder.fit_transform(y_train)\n",
    "y_test = label_encoder.fit_transform(y_test)"
   ]
  },
  {
   "cell_type": "code",
   "execution_count": 29,
   "metadata": {
    "colab": {
     "base_uri": "https://localhost:8080/"
    },
    "id": "PMilbVILpN_e",
    "outputId": "13dff7d2-32c0-4f9e-88f2-3d04d6fef2ea"
   },
   "outputs": [
    {
     "name": "stdout",
     "output_type": "stream",
     "text": [
      "[0 0 0 0 0]\n",
      "[0 0 0 0 0]\n"
     ]
    }
   ],
   "source": [
    "print(y_train[0:5])\n",
    "print(y_test[0:5])"
   ]
  },
  {
   "cell_type": "markdown",
   "metadata": {
    "id": "TMHjQKf2pf49"
   },
   "source": [
    "1 is rabbit, 0 is cat"
   ]
  },
  {
   "cell_type": "code",
   "execution_count": 30,
   "metadata": {
    "id": "d1qVAN_Xpw2E"
   },
   "outputs": [],
   "source": [
    "#Min-Max Normalization\n",
    "x_train = x_train/255.0\n",
    "x_test = x_test/225.0"
   ]
  },
  {
   "cell_type": "code",
   "execution_count": 39,
   "metadata": {
    "colab": {
     "base_uri": "https://localhost:8080/"
    },
    "id": "G-VETa-0sCNH",
    "outputId": "6d5d171f-10f4-495d-cb6d-a979c500b85e"
   },
   "outputs": [
    {
     "name": "stdout",
     "output_type": "stream",
     "text": [
      "Model: \"sequential_1\"\n",
      "_________________________________________________________________\n",
      " Layer (type)                Output Shape              Param #   \n",
      "=================================================================\n",
      " conv2d_2 (Conv2D)           (None, 48, 48, 20)        560       \n",
      "                                                                 \n",
      " max_pooling2d_2 (MaxPoolin  (None, 24, 24, 20)        0         \n",
      " g2D)                                                            \n",
      "                                                                 \n",
      " conv2d_3 (Conv2D)           (None, 22, 22, 16)        2896      \n",
      "                                                                 \n",
      " max_pooling2d_3 (MaxPoolin  (None, 11, 11, 16)        0         \n",
      " g2D)                                                            \n",
      "                                                                 \n",
      " flatten_1 (Flatten)         (None, 1936)              0         \n",
      "                                                                 \n",
      " dense_3 (Dense)             (None, 50)                96850     \n",
      "                                                                 \n",
      " activation_3 (Activation)   (None, 50)                0         \n",
      "                                                                 \n",
      " dense_4 (Dense)             (None, 25)                1275      \n",
      "                                                                 \n",
      " activation_4 (Activation)   (None, 25)                0         \n",
      "                                                                 \n",
      " dense_5 (Dense)             (None, 1)                 26        \n",
      "                                                                 \n",
      " activation_5 (Activation)   (None, 1)                 0         \n",
      "                                                                 \n",
      "=================================================================\n",
      "Total params: 101607 (396.90 KB)\n",
      "Trainable params: 101607 (396.90 KB)\n",
      "Non-trainable params: 0 (0.00 Byte)\n",
      "_________________________________________________________________\n",
      "None\n"
     ]
    }
   ],
   "source": [
    "# Create CNN\n",
    "model = Sequential()\n",
    "\n",
    "#Convolutional layer 1\n",
    "model.add(Conv2D(filters=20, #K\n",
    "                 kernel_size=(3, 3), #3 by 3 convolutional filter\n",
    "                 activation='tanh',\n",
    "                 input_shape=(50,50,3)))\n",
    "#Pooling 1\n",
    "model.add(MaxPooling2D())\n",
    "\n",
    "#Convolutional layer 2\n",
    "model.add(Conv2D(filters=16,\n",
    "                 kernel_size=(3, 3),\n",
    "                 activation='tanh'))\n",
    "#Pooling 2\n",
    "model.add(MaxPooling2D())\n",
    "\n",
    "#Compress vector\n",
    "model.add(Flatten())\n",
    "\n",
    "#Dense Layer 1\n",
    "model.add(Dense(50)) #Because my image is high dimension, lower the number of neurons first\n",
    "#Activation 1\n",
    "model.add(Activation('tanh'))\n",
    "\n",
    "#Dense Layer 2\n",
    "model.add(Dense(25))\n",
    "#Activation 2\n",
    "model.add(Activation('tanh'))\n",
    "\n",
    "#Final Dense Layer\n",
    "model.add(Dense(1)) #Binary classification\n",
    "#Activation 3\n",
    "model.add(Activation('sigmoid')) #Binary classification\n",
    "\n",
    "epochs = 20\n",
    "\n",
    "model.compile(loss='binary_crossentropy', optimizer='adam', metrics=['accuracy']) #Binary crossentropy\n",
    "print(model.summary())"
   ]
  },
  {
   "cell_type": "code",
   "execution_count": 40,
   "metadata": {
    "colab": {
     "base_uri": "https://localhost:8080/"
    },
    "id": "-y9uVQxpu3s-",
    "outputId": "0d2ae121-93e1-4df6-df32-647e47485d2d"
   },
   "outputs": [
    {
     "name": "stdout",
     "output_type": "stream",
     "text": [
      "Epoch 1/20\n",
      "11/11 [==============================] - 5s 233ms/step - loss: 0.7380 - accuracy: 0.5800 - val_loss: 1.0835 - val_accuracy: 0.0104\n",
      "Epoch 2/20\n"
     ]
    },
    {
     "name": "stderr",
     "output_type": "stream",
     "text": [
      "/usr/local/lib/python3.10/dist-packages/keras/src/engine/training.py:3079: UserWarning: You are saving your model as an HDF5 file via `model.save()`. This file format is considered legacy. We recommend using instead the native Keras format, e.g. `model.save('my_model.keras')`.\n",
      "  saving_api.save_model(\n"
     ]
    },
    {
     "name": "stdout",
     "output_type": "stream",
     "text": [
      "11/11 [==============================] - 4s 378ms/step - loss: 0.5834 - accuracy: 0.7066 - val_loss: 0.8455 - val_accuracy: 0.3924\n",
      "Epoch 3/20\n",
      "11/11 [==============================] - 3s 237ms/step - loss: 0.5053 - accuracy: 0.7675 - val_loss: 0.9278 - val_accuracy: 0.4201\n",
      "Epoch 4/20\n",
      "11/11 [==============================] - 2s 214ms/step - loss: 0.4768 - accuracy: 0.7752 - val_loss: 0.3869 - val_accuracy: 0.8125\n",
      "Epoch 5/20\n",
      "11/11 [==============================] - 2s 218ms/step - loss: 0.4872 - accuracy: 0.7492 - val_loss: 0.3932 - val_accuracy: 0.8438\n",
      "Epoch 6/20\n",
      "11/11 [==============================] - 2s 199ms/step - loss: 0.4172 - accuracy: 0.8209 - val_loss: 0.5825 - val_accuracy: 0.6875\n",
      "Epoch 7/20\n",
      "11/11 [==============================] - 3s 287ms/step - loss: 0.3729 - accuracy: 0.8575 - val_loss: 0.8808 - val_accuracy: 0.5451\n",
      "Epoch 8/20\n",
      "11/11 [==============================] - 4s 327ms/step - loss: 0.3719 - accuracy: 0.8491 - val_loss: 0.7870 - val_accuracy: 0.5556\n",
      "Epoch 9/20\n",
      "11/11 [==============================] - 2s 215ms/step - loss: 0.3323 - accuracy: 0.8681 - val_loss: 0.6028 - val_accuracy: 0.6875\n",
      "Epoch 10/20\n",
      "11/11 [==============================] - 2s 215ms/step - loss: 0.2985 - accuracy: 0.8803 - val_loss: 0.5168 - val_accuracy: 0.7708\n",
      "Epoch 11/20\n",
      "11/11 [==============================] - 2s 213ms/step - loss: 0.2737 - accuracy: 0.9017 - val_loss: 0.5933 - val_accuracy: 0.7396\n",
      "Epoch 12/20\n",
      "11/11 [==============================] - 2s 213ms/step - loss: 0.2493 - accuracy: 0.9131 - val_loss: 0.5516 - val_accuracy: 0.7674\n",
      "Epoch 13/20\n",
      "11/11 [==============================] - 4s 381ms/step - loss: 0.2254 - accuracy: 0.9268 - val_loss: 0.4204 - val_accuracy: 0.8438\n",
      "Epoch 14/20\n",
      "11/11 [==============================] - 3s 233ms/step - loss: 0.2054 - accuracy: 0.9299 - val_loss: 0.4567 - val_accuracy: 0.8507\n",
      "Epoch 15/20\n",
      "11/11 [==============================] - 2s 209ms/step - loss: 0.1879 - accuracy: 0.9444 - val_loss: 0.6153 - val_accuracy: 0.7639\n",
      "Epoch 16/20\n",
      "11/11 [==============================] - 2s 210ms/step - loss: 0.1922 - accuracy: 0.9245 - val_loss: 0.4116 - val_accuracy: 0.8750\n",
      "Epoch 17/20\n",
      "11/11 [==============================] - 2s 206ms/step - loss: 0.1590 - accuracy: 0.9489 - val_loss: 0.4182 - val_accuracy: 0.8750\n",
      "Epoch 18/20\n",
      "11/11 [==============================] - 3s 294ms/step - loss: 0.1386 - accuracy: 0.9619 - val_loss: 0.3523 - val_accuracy: 0.8889\n",
      "Epoch 19/20\n",
      "11/11 [==============================] - 4s 318ms/step - loss: 0.1172 - accuracy: 0.9718 - val_loss: 0.3649 - val_accuracy: 0.8889\n",
      "Epoch 20/20\n",
      "11/11 [==============================] - 2s 209ms/step - loss: 0.1072 - accuracy: 0.9695 - val_loss: 0.5413 - val_accuracy: 0.8194\n"
     ]
    }
   ],
   "source": [
    "from keras.callbacks import ModelCheckpoint\n",
    "checkpoint = ModelCheckpoint('CNN_cat_rabbit_{epoch:02d}.h5')\n",
    "\n",
    "history = model.fit(x_train, y_train, validation_split=0.18, epochs=epochs, batch_size=128, callbacks =[checkpoint])\n"
   ]
  },
  {
   "cell_type": "code",
   "execution_count": 41,
   "metadata": {
    "colab": {
     "base_uri": "https://localhost:8080/",
     "height": 927
    },
    "id": "5bWvJih1IHmm",
    "outputId": "4e0708af-76cf-424e-b563-ee002e99f093"
   },
   "outputs": [
    {
     "data": {
      "image/png": "[encoded data removed]",
      "text/plain": [
       "<Figure size 640x480 with 1 Axes>"
      ]
     },
     "metadata": {},
     "output_type": "display_data"
    },
    {
     "data": {
      "image/png": "[encoded data removed]",
      "text/plain": [
       "<Figure size 640x480 with 1 Axes>"
      ]
     },
     "metadata": {},
     "output_type": "display_data"
    }
   ],
   "source": [
    "# Plot training & validation accuracy values\n",
    "plt.plot(history.history['accuracy'],'x-')\n",
    "plt.plot(history.history['val_accuracy'],'x-')\n",
    "plt.title('Model accuracy')\n",
    "plt.ylabel('Accuracy')\n",
    "plt.xlabel('Epoch')\n",
    "plt.legend(['Train', 'Valid'], loc='upper left')\n",
    "plt.show()\n",
    "\n",
    "# Plot training & validation loss values\n",
    "plt.plot(history.history['loss'],'x-')\n",
    "plt.plot(history.history['val_loss'],'x-')\n",
    "plt.title('Model loss')\n",
    "plt.ylabel('Loss')\n",
    "plt.xlabel('Epoch')\n",
    "plt.legend(['Train', 'Valid'], loc='upper left')\n",
    "plt.show()"
   ]
  },
  {
   "cell_type": "code",
   "execution_count": 44,
   "metadata": {
    "colab": {
     "base_uri": "https://localhost:8080/",
     "height": 17
    },
    "id": "5Ftd3umaPs0r",
    "outputId": "68a181e6-b946-40f4-e136-ca823a954f64"
   },
   "outputs": [
    {
     "data": {
      "application/javascript": [
       "\n",
       "    async function download(id, filename, size) {\n",
       "      if (!google.colab.kernel.accessAllowed) {\n",
       "        return;\n",
       "      }\n",
       "      const div = document.createElement('div');\n",
       "      const label = document.createElement('label');\n",
       "      label.textContent = `Downloading \"${filename}\": `;\n",
       "      div.appendChild(label);\n",
       "      const progress = document.createElement('progress');\n",
       "      progress.max = size;\n",
       "      div.appendChild(progress);\n",
       "      document.body.appendChild(div);\n",
       "\n",
       "      const buffers = [];\n",
       "      let downloaded = 0;\n",
       "\n",
       "      const channel = await google.colab.kernel.comms.open(id);\n",
       "      // Send a message to notify the kernel that we're ready.\n",
       "      channel.send({})\n",
       "\n",
       "      for await (const message of channel.messages) {\n",
       "        // Send a message to notify the kernel that we're ready.\n",
       "        channel.send({})\n",
       "        if (message.buffers) {\n",
       "          for (const buffer of message.buffers) {\n",
       "            buffers.push(buffer);\n",
       "            downloaded += buffer.byteLength;\n",
       "            progress.value = downloaded;\n",
       "          }\n",
       "        }\n",
       "      }\n",
       "      const blob = new Blob(buffers, {type: 'application/binary'});\n",
       "      const a = document.createElement('a');\n",
       "      a.href = window.URL.createObjectURL(blob);\n",
       "      a.download = filename;\n",
       "      div.appendChild(a);\n",
       "      a.click();\n",
       "      div.remove();\n",
       "    }\n",
       "  "
      ],
      "text/plain": [
       "<IPython.core.display.Javascript object>"
      ]
     },
     "metadata": {},
     "output_type": "display_data"
    },
    {
     "data": {
      "application/javascript": [
       "download(\"download_ecf6bd6d-d1e4-454a-836f-e185903c18fb\", \"CNN_cat_rabbit_19.h5\", 1271512)"
      ],
      "text/plain": [
       "<IPython.core.display.Javascript object>"
      ]
     },
     "metadata": {},
     "output_type": "display_data"
    }
   ],
   "source": [
    "from google.colab import files\n",
    "files.download(\"CNN_cat_rabbit_18.h5\")"
   ]
  },
  {
   "cell_type": "code",
   "execution_count": 43,
   "metadata": {
    "colab": {
     "base_uri": "https://localhost:8080/"
    },
    "id": "VwNt5GpOPRS_",
    "outputId": "4a0a571d-35a4-4a02-8322-32d78056a18b"
   },
   "outputs": [
    {
     "name": "stdout",
     "output_type": "stream",
     "text": [
      "Accuracy: 77.54%\n",
      "Loss: 0.5563\n"
     ]
    }
   ],
   "source": [
    "#Selecting the model based on training and validation accuracy.\n",
    "#Despite the first model having a high validation accuracy, it should not be picked due to its really low training accuracy.\n",
    "\n",
    "model.load_weights(\"CNN_cat_rabbit_18.h5\")\n",
    "scores = model.evaluate(x_test, y_test, verbose=0)\n",
    "print(\"Accuracy: %.2f%%\" % (scores[1]*100))\n",
    "print(\"Loss: %.4f\" % (scores[0]))"
   ]
  },
  {
   "cell_type": "markdown",
   "metadata": {
    "id": "VDgHYep1QPQL"
   },
   "source": [
    "### Visualizing the performance"
   ]
  },
  {
   "cell_type": "code",
   "execution_count": 45,
   "metadata": {
    "colab": {
     "base_uri": "https://localhost:8080/"
    },
    "id": "lyYDzU3hQTDB",
    "outputId": "dd93492d-aed5-4cd1-e11c-3e3ef923ca91"
   },
   "outputs": [
    {
     "name": "stdout",
     "output_type": "stream",
     "text": [
      "13/13 [==============================] - 0s 19ms/step\n"
     ]
    }
   ],
   "source": [
    "cnn_pred = model.predict(x_test)\n",
    "cnn_pred = np.round(cnn_pred) #Round to 1/0"
   ]
  },
  {
   "cell_type": "code",
   "execution_count": 46,
   "metadata": {
    "colab": {
     "base_uri": "https://localhost:8080/"
    },
    "id": "1IqyY8dfQvAn",
    "outputId": "f2cb2a7f-0d5b-4378-feea-af0f0ada563a"
   },
   "outputs": [
    {
     "data": {
      "text/plain": [
       "array([[0.],\n",
       "       [0.],\n",
       "       [1.],\n",
       "       [0.],\n",
       "       [1.]], dtype=float32)"
      ]
     },
     "execution_count": 46,
     "metadata": {},
     "output_type": "execute_result"
    }
   ],
   "source": [
    "cnn_pred[:5]"
   ]
  },
  {
   "cell_type": "code",
   "execution_count": 47,
   "metadata": {
    "colab": {
     "base_uri": "https://localhost:8080/",
     "height": 586
    },
    "id": "4sj5DHkvPb07",
    "outputId": "0b924c9d-5b4e-433a-95fe-64bdc2349870"
   },
   "outputs": [
    {
     "name": "stdout",
     "output_type": "stream",
     "text": [
      "              precision    recall  f1-score   support\n",
      "\n",
      "           0       0.75      0.82      0.79       207\n",
      "           1       0.80      0.73      0.76       207\n",
      "\n",
      "    accuracy                           0.78       414\n",
      "   macro avg       0.78      0.78      0.77       414\n",
      "weighted avg       0.78      0.78      0.77       414\n",
      "\n"
     ]
    },
    {
     "data": {
      "image/png": "[encoded data removed]",
      "text/plain": [
       "<Figure size 640x480 with 2 Axes>"
      ]
     },
     "metadata": {},
     "output_type": "display_data"
    }
   ],
   "source": [
    "cr = classification_report(y_test, cnn_pred)\n",
    "cm = confusion_matrix(y_test, cnn_pred)\n",
    "\n",
    "print(cr)\n",
    "sns.heatmap(cm, annot=True, fmt='d')\n",
    "plt.show()\n",
    "\n",
    "#0 is cat, 1 is rabbit"
   ]
  },
  {
   "cell_type": "markdown",
   "metadata": {
    "id": "zJWoZPt-SgsF"
   },
   "source": [
    "Based on the classification report, the CNN model with the specified conditions fed in with (50x50x3) images did a decent job at classifying cats and rabbits.\n",
    "- Cat precision (75%) Rabbit precision (80%):\n",
    "\n",
    "Out of all the instances predicted as cats, 75% were actually cats.\n",
    "\n",
    "Out of all the instances predicted as rabbit, 80% were actually rabbits.\n",
    "\n",
    "- Cat recall (82%) Rabbit recall (73%):\n",
    "\n",
    "Out of all the actual cats, the model predicted 82% of them.\n",
    "\n",
    "Out of all the actual rabbits, the model predicted 73% of them.\n",
    "\n",
    "- Overall accuracy (78%)\n",
    "\n",
    "With better processing capabilities, the model can be further improved by fitting it with the original (300x300x3) images and increasing the number of neurons for training."
   ]
  },
  {
   "cell_type": "code",
   "execution_count": 38,
   "metadata": {
    "id": "GoVF5jMsQ49r"
   },
   "outputs": [],
   "source": []
  }
 ],
 "metadata": {
  "colab": {
   "provenance": []
  },
  "kernelspec": {
   "display_name": "Python 3 (ipykernel)",
   "language": "python",
   "name": "python3"
  },
  "language_info": {
   "codemirror_mode": {
    "name": "ipython",
    "version": 3
   },
   "file_extension": ".py",
   "mimetype": "text/x-python",
   "name": "python",
   "nbconvert_exporter": "python",
   "pygments_lexer": "ipython3",
   "version": "3.9.13"
  }
 },
 "nbformat": 4,
 "nbformat_minor": 1
}
