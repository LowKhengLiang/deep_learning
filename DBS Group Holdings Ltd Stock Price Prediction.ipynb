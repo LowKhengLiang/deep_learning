{
 "cells": [
  {
   "cell_type": "code",
   "execution_count": null,
   "metadata": {
    "id": "0xN7jSxakp3e"
   },
   "outputs": [],
   "source": [
    "#Working day = non weekend day and non public holiday"
   ]
  },
  {
   "cell_type": "code",
   "execution_count": null,
   "metadata": {
    "id": "IX_G94Lunt4z"
   },
   "outputs": [],
   "source": [
    "import pandas as pd\n",
    "\n",
    "from keras.models import Sequential\n",
    "from keras.layers import Embedding, SimpleRNN\n",
    "from keras.layers import Dense\n",
    "from keras.layers import LSTM\n",
    "from keras.utils import to_categorical\n",
    "from keras.callbacks import ModelCheckpoint\n",
    "\n",
    "\n",
    "import numpy as np\n",
    "import matplotlib.pyplot as plt"
   ]
  },
  {
   "cell_type": "code",
   "execution_count": null,
   "metadata": {
    "id": "-r88u6H0nuqN"
   },
   "outputs": [],
   "source": [
    "training_df = pd.read_csv('D05.SI.csv')"
   ]
  },
  {
   "cell_type": "code",
   "execution_count": null,
   "metadata": {
    "id": "OGOjGIMSnzgU"
   },
   "outputs": [],
   "source": [
    "testing_df = pd.read_csv('D05.SI test.csv')"
   ]
  },
  {
   "cell_type": "code",
   "execution_count": null,
   "metadata": {
    "colab": {
     "base_uri": "https://localhost:8080/"
    },
    "id": "qDG3YSYCoDJd",
    "outputId": "5f81c0a0-adfe-4fb5-e621-c926ff21f900"
   },
   "outputs": [
    {
     "name": "stdout",
     "output_type": "stream",
     "text": [
      "(2011, 7)\n",
      "(249, 7)\n"
     ]
    }
   ],
   "source": [
    "print(training_df.shape)\n",
    "print(testing_df.shape)"
   ]
  },
  {
   "cell_type": "code",
   "execution_count": null,
   "metadata": {
    "colab": {
     "base_uri": "https://localhost:8080/",
     "height": 206
    },
    "id": "AK9PZzATpL4i",
    "outputId": "b88c8111-f688-43d7-db7a-23a271828229"
   },
   "outputs": [
    {
     "data": {
      "text/html": [
       "\n",
       "  <div id=\"df-c2e9e64c-207e-46ee-9b57-696cf07a72b7\" class=\"colab-df-container\">\n",
       "    <div>\n",
       "<style scoped>\n",
       "    .dataframe tbody tr th:only-of-type {\n",
       "        vertical-align: middle;\n",
       "    }\n",
       "\n",
       "    .dataframe tbody tr th {\n",
       "        vertical-align: top;\n",
       "    }\n",
       "\n",
       "    .dataframe thead th {\n",
       "        text-align: right;\n",
       "    }\n",
       "</style>\n",
       "<table border=\"1\" class=\"dataframe\">\n",
       "  <thead>\n",
       "    <tr style=\"text-align: right;\">\n",
       "      <th></th>\n",
       "      <th>Date</th>\n",
       "      <th>Open</th>\n",
       "      <th>High</th>\n",
       "      <th>Low</th>\n",
       "      <th>Close</th>\n",
       "      <th>Adj Close</th>\n",
       "      <th>Volume</th>\n",
       "    </tr>\n",
       "  </thead>\n",
       "  <tbody>\n",
       "    <tr>\n",
       "      <th>0</th>\n",
       "      <td>2022-01-03</td>\n",
       "      <td>32.799999</td>\n",
       "      <td>32.830002</td>\n",
       "      <td>32.720001</td>\n",
       "      <td>32.790001</td>\n",
       "      <td>30.112732</td>\n",
       "      <td>1610600</td>\n",
       "    </tr>\n",
       "    <tr>\n",
       "      <th>1</th>\n",
       "      <td>2022-01-04</td>\n",
       "      <td>33.049999</td>\n",
       "      <td>33.779999</td>\n",
       "      <td>33.009998</td>\n",
       "      <td>33.709999</td>\n",
       "      <td>30.957611</td>\n",
       "      <td>5285200</td>\n",
       "    </tr>\n",
       "    <tr>\n",
       "      <th>2</th>\n",
       "      <td>2022-01-05</td>\n",
       "      <td>33.799999</td>\n",
       "      <td>33.849998</td>\n",
       "      <td>33.070000</td>\n",
       "      <td>33.240002</td>\n",
       "      <td>30.525988</td>\n",
       "      <td>4654600</td>\n",
       "    </tr>\n",
       "    <tr>\n",
       "      <th>3</th>\n",
       "      <td>2022-01-06</td>\n",
       "      <td>32.980000</td>\n",
       "      <td>33.820000</td>\n",
       "      <td>32.959999</td>\n",
       "      <td>33.820000</td>\n",
       "      <td>31.058626</td>\n",
       "      <td>4700100</td>\n",
       "    </tr>\n",
       "    <tr>\n",
       "      <th>4</th>\n",
       "      <td>2022-01-07</td>\n",
       "      <td>34.150002</td>\n",
       "      <td>34.369999</td>\n",
       "      <td>34.040001</td>\n",
       "      <td>34.369999</td>\n",
       "      <td>31.563725</td>\n",
       "      <td>5028600</td>\n",
       "    </tr>\n",
       "  </tbody>\n",
       "</table>\n",
       "</div>\n",
       "    <div class=\"colab-df-buttons\">\n",
       "\n",
       "  <div class=\"colab-df-container\">\n",
       "    <button class=\"colab-df-convert\" onclick=\"convertToInteractive('df-c2e9e64c-207e-46ee-9b57-696cf07a72b7')\"\n",
       "            title=\"Convert this dataframe to an interactive table.\"\n",
       "            style=\"display:none;\">\n",
       "\n",
       "  <svg xmlns=\"http://www.w3.org/2000/svg\" height=\"24px\" viewBox=\"0 -960 960 960\">\n",
       "    <path d=\"M120-120v-720h720v720H120Zm60-500h600v-160H180v160Zm220 220h160v-160H400v160Zm0 220h160v-160H400v160ZM180-400h160v-160H180v160Zm440 0h160v-160H620v160ZM180-180h160v-160H180v160Zm440 0h160v-160H620v160Z\"/>\n",
       "  </svg>\n",
       "    </button>\n",
       "\n",
       "  <style>\n",
       "    .colab-df-container {\n",
       "      display:flex;\n",
       "      gap: 12px;\n",
       "    }\n",
       "\n",
       "    .colab-df-convert {\n",
       "      background-color: #E8F0FE;\n",
       "      border: none;\n",
       "      border-radius: 50%;\n",
       "      cursor: pointer;\n",
       "      display: none;\n",
       "      fill: #1967D2;\n",
       "      height: 32px;\n",
       "      padding: 0 0 0 0;\n",
       "      width: 32px;\n",
       "    }\n",
       "\n",
       "    .colab-df-convert:hover {\n",
       "      background-color: #E2EBFA;\n",
       "      box-shadow: 0px 1px 2px rgba(60, 64, 67, 0.3), 0px 1px 3px 1px rgba(60, 64, 67, 0.15);\n",
       "      fill: #174EA6;\n",
       "    }\n",
       "\n",
       "    .colab-df-buttons div {\n",
       "      margin-bottom: 4px;\n",
       "    }\n",
       "\n",
       "    [theme=dark] .colab-df-convert {\n",
       "      background-color: #3B4455;\n",
       "      fill: #D2E3FC;\n",
       "    }\n",
       "\n",
       "    [theme=dark] .colab-df-convert:hover {\n",
       "      background-color: #434B5C;\n",
       "      box-shadow: 0px 1px 3px 1px rgba(0, 0, 0, 0.15);\n",
       "      filter: drop-shadow(0px 1px 2px rgba(0, 0, 0, 0.3));\n",
       "      fill: #FFFFFF;\n",
       "    }\n",
       "  </style>\n",
       "\n",
       "    <script>\n",
       "      const buttonEl =\n",
       "        document.querySelector('#df-c2e9e64c-207e-46ee-9b57-696cf07a72b7 button.colab-df-convert');\n",
       "      buttonEl.style.display =\n",
       "        google.colab.kernel.accessAllowed ? 'block' : 'none';\n",
       "\n",
       "      async function convertToInteractive(key) {\n",
       "        const element = document.querySelector('#df-c2e9e64c-207e-46ee-9b57-696cf07a72b7');\n",
       "        const dataTable =\n",
       "          await google.colab.kernel.invokeFunction('convertToInteractive',\n",
       "                                                    [key], {});\n",
       "        if (!dataTable) return;\n",
       "\n",
       "        const docLinkHtml = 'Like what you see? Visit the ' +\n",
       "          '<a target=\"_blank\" href=https://colab.research.google.com/notebooks/data_table.ipynb>data table notebook</a>'\n",
       "          + ' to learn more about interactive tables.';\n",
       "        element.innerHTML = '';\n",
       "        dataTable['output_type'] = 'display_data';\n",
       "        await google.colab.output.renderOutput(dataTable, element);\n",
       "        const docLink = document.createElement('div');\n",
       "        docLink.innerHTML = docLinkHtml;\n",
       "        element.appendChild(docLink);\n",
       "      }\n",
       "    </script>\n",
       "  </div>\n",
       "\n",
       "\n",
       "<div id=\"df-4ec3a00c-22c1-4ecf-bcf0-3c818b6991b1\">\n",
       "  <button class=\"colab-df-quickchart\" onclick=\"quickchart('df-4ec3a00c-22c1-4ecf-bcf0-3c818b6991b1')\"\n",
       "            title=\"Suggest charts.\"\n",
       "            style=\"display:none;\">\n",
       "\n",
       "<svg xmlns=\"http://www.w3.org/2000/svg\" height=\"24px\"viewBox=\"0 0 24 24\"\n",
       "     width=\"24px\">\n",
       "    <g>\n",
       "        <path d=\"M19 3H5c-1.1 0-2 .9-2 2v14c0 1.1.9 2 2 2h14c1.1 0 2-.9 2-2V5c0-1.1-.9-2-2-2zM9 17H7v-7h2v7zm4 0h-2V7h2v10zm4 0h-2v-4h2v4z\"/>\n",
       "    </g>\n",
       "</svg>\n",
       "  </button>\n",
       "\n",
       "<style>\n",
       "  .colab-df-quickchart {\n",
       "      --bg-color: #E8F0FE;\n",
       "      --fill-color: #1967D2;\n",
       "      --hover-bg-color: #E2EBFA;\n",
       "      --hover-fill-color: #174EA6;\n",
       "      --disabled-fill-color: #AAA;\n",
       "      --disabled-bg-color: #DDD;\n",
       "  }\n",
       "\n",
       "  [theme=dark] .colab-df-quickchart {\n",
       "      --bg-color: #3B4455;\n",
       "      --fill-color: #D2E3FC;\n",
       "      --hover-bg-color: #434B5C;\n",
       "      --hover-fill-color: #FFFFFF;\n",
       "      --disabled-bg-color: #3B4455;\n",
       "      --disabled-fill-color: #666;\n",
       "  }\n",
       "\n",
       "  .colab-df-quickchart {\n",
       "    background-color: var(--bg-color);\n",
       "    border: none;\n",
       "    border-radius: 50%;\n",
       "    cursor: pointer;\n",
       "    display: none;\n",
       "    fill: var(--fill-color);\n",
       "    height: 32px;\n",
       "    padding: 0;\n",
       "    width: 32px;\n",
       "  }\n",
       "\n",
       "  .colab-df-quickchart:hover {\n",
       "    background-color: var(--hover-bg-color);\n",
       "    box-shadow: 0 1px 2px rgba(60, 64, 67, 0.3), 0 1px 3px 1px rgba(60, 64, 67, 0.15);\n",
       "    fill: var(--button-hover-fill-color);\n",
       "  }\n",
       "\n",
       "  .colab-df-quickchart-complete:disabled,\n",
       "  .colab-df-quickchart-complete:disabled:hover {\n",
       "    background-color: var(--disabled-bg-color);\n",
       "    fill: var(--disabled-fill-color);\n",
       "    box-shadow: none;\n",
       "  }\n",
       "\n",
       "  .colab-df-spinner {\n",
       "    border: 2px solid var(--fill-color);\n",
       "    border-color: transparent;\n",
       "    border-bottom-color: var(--fill-color);\n",
       "    animation:\n",
       "      spin 1s steps(1) infinite;\n",
       "  }\n",
       "\n",
       "  @keyframes spin {\n",
       "    0% {\n",
       "      border-color: transparent;\n",
       "      border-bottom-color: var(--fill-color);\n",
       "      border-left-color: var(--fill-color);\n",
       "    }\n",
       "    20% {\n",
       "      border-color: transparent;\n",
       "      border-left-color: var(--fill-color);\n",
       "      border-top-color: var(--fill-color);\n",
       "    }\n",
       "    30% {\n",
       "      border-color: transparent;\n",
       "      border-left-color: var(--fill-color);\n",
       "      border-top-color: var(--fill-color);\n",
       "      border-right-color: var(--fill-color);\n",
       "    }\n",
       "    40% {\n",
       "      border-color: transparent;\n",
       "      border-right-color: var(--fill-color);\n",
       "      border-top-color: var(--fill-color);\n",
       "    }\n",
       "    60% {\n",
       "      border-color: transparent;\n",
       "      border-right-color: var(--fill-color);\n",
       "    }\n",
       "    80% {\n",
       "      border-color: transparent;\n",
       "      border-right-color: var(--fill-color);\n",
       "      border-bottom-color: var(--fill-color);\n",
       "    }\n",
       "    90% {\n",
       "      border-color: transparent;\n",
       "      border-bottom-color: var(--fill-color);\n",
       "    }\n",
       "  }\n",
       "</style>\n",
       "\n",
       "  <script>\n",
       "    async function quickchart(key) {\n",
       "      const quickchartButtonEl =\n",
       "        document.querySelector('#' + key + ' button');\n",
       "      quickchartButtonEl.disabled = true;  // To prevent multiple clicks.\n",
       "      quickchartButtonEl.classList.add('colab-df-spinner');\n",
       "      try {\n",
       "        const charts = await google.colab.kernel.invokeFunction(\n",
       "            'suggestCharts', [key], {});\n",
       "      } catch (error) {\n",
       "        console.error('Error during call to suggestCharts:', error);\n",
       "      }\n",
       "      quickchartButtonEl.classList.remove('colab-df-spinner');\n",
       "      quickchartButtonEl.classList.add('colab-df-quickchart-complete');\n",
       "    }\n",
       "    (() => {\n",
       "      let quickchartButtonEl =\n",
       "        document.querySelector('#df-4ec3a00c-22c1-4ecf-bcf0-3c818b6991b1 button');\n",
       "      quickchartButtonEl.style.display =\n",
       "        google.colab.kernel.accessAllowed ? 'block' : 'none';\n",
       "    })();\n",
       "  </script>\n",
       "</div>\n",
       "    </div>\n",
       "  </div>\n"
      ],
      "text/plain": [
       "         Date       Open       High        Low      Close  Adj Close   Volume\n",
       "0  2022-01-03  32.799999  32.830002  32.720001  32.790001  30.112732  1610600\n",
       "1  2022-01-04  33.049999  33.779999  33.009998  33.709999  30.957611  5285200\n",
       "2  2022-01-05  33.799999  33.849998  33.070000  33.240002  30.525988  4654600\n",
       "3  2022-01-06  32.980000  33.820000  32.959999  33.820000  31.058626  4700100\n",
       "4  2022-01-07  34.150002  34.369999  34.040001  34.369999  31.563725  5028600"
      ]
     },
     "execution_count": 36,
     "metadata": {},
     "output_type": "execute_result"
    }
   ],
   "source": [
    "testing_df.head()\n",
    "#The dates are in ascending order"
   ]
  },
  {
   "cell_type": "code",
   "execution_count": null,
   "metadata": {
    "colab": {
     "base_uri": "https://localhost:8080/",
     "height": 206
    },
    "id": "EZinplGOpRjh",
    "outputId": "46da6dc8-0402-428c-b278-df4beef81ca0"
   },
   "outputs": [
    {
     "data": {
      "text/html": [
       "\n",
       "  <div id=\"df-d5cd4eed-a1b1-4cf1-a922-8d05d9f0222e\" class=\"colab-df-container\">\n",
       "    <div>\n",
       "<style scoped>\n",
       "    .dataframe tbody tr th:only-of-type {\n",
       "        vertical-align: middle;\n",
       "    }\n",
       "\n",
       "    .dataframe tbody tr th {\n",
       "        vertical-align: top;\n",
       "    }\n",
       "\n",
       "    .dataframe thead th {\n",
       "        text-align: right;\n",
       "    }\n",
       "</style>\n",
       "<table border=\"1\" class=\"dataframe\">\n",
       "  <thead>\n",
       "    <tr style=\"text-align: right;\">\n",
       "      <th></th>\n",
       "      <th>Date</th>\n",
       "      <th>Open</th>\n",
       "      <th>High</th>\n",
       "      <th>Low</th>\n",
       "      <th>Close</th>\n",
       "      <th>Adj Close</th>\n",
       "      <th>Volume</th>\n",
       "    </tr>\n",
       "  </thead>\n",
       "  <tbody>\n",
       "    <tr>\n",
       "      <th>0</th>\n",
       "      <td>2014-01-02</td>\n",
       "      <td>17.200001</td>\n",
       "      <td>17.219999</td>\n",
       "      <td>17.049999</td>\n",
       "      <td>17.100000</td>\n",
       "      <td>11.315717</td>\n",
       "      <td>1849000</td>\n",
       "    </tr>\n",
       "    <tr>\n",
       "      <th>1</th>\n",
       "      <td>2014-01-03</td>\n",
       "      <td>17.070000</td>\n",
       "      <td>17.100000</td>\n",
       "      <td>16.870001</td>\n",
       "      <td>16.980000</td>\n",
       "      <td>11.236308</td>\n",
       "      <td>2485000</td>\n",
       "    </tr>\n",
       "    <tr>\n",
       "      <th>2</th>\n",
       "      <td>2014-01-06</td>\n",
       "      <td>16.980000</td>\n",
       "      <td>17.030001</td>\n",
       "      <td>16.910000</td>\n",
       "      <td>17.020000</td>\n",
       "      <td>11.262780</td>\n",
       "      <td>1248000</td>\n",
       "    </tr>\n",
       "    <tr>\n",
       "      <th>3</th>\n",
       "      <td>2014-01-07</td>\n",
       "      <td>17.070000</td>\n",
       "      <td>17.139999</td>\n",
       "      <td>16.950001</td>\n",
       "      <td>17.040001</td>\n",
       "      <td>11.276013</td>\n",
       "      <td>3530000</td>\n",
       "    </tr>\n",
       "    <tr>\n",
       "      <th>4</th>\n",
       "      <td>2014-01-08</td>\n",
       "      <td>17.139999</td>\n",
       "      <td>17.389999</td>\n",
       "      <td>17.110001</td>\n",
       "      <td>17.370001</td>\n",
       "      <td>11.494388</td>\n",
       "      <td>5674000</td>\n",
       "    </tr>\n",
       "  </tbody>\n",
       "</table>\n",
       "</div>\n",
       "    <div class=\"colab-df-buttons\">\n",
       "\n",
       "  <div class=\"colab-df-container\">\n",
       "    <button class=\"colab-df-convert\" onclick=\"convertToInteractive('df-d5cd4eed-a1b1-4cf1-a922-8d05d9f0222e')\"\n",
       "            title=\"Convert this dataframe to an interactive table.\"\n",
       "            style=\"display:none;\">\n",
       "\n",
       "  <svg xmlns=\"http://www.w3.org/2000/svg\" height=\"24px\" viewBox=\"0 -960 960 960\">\n",
       "    <path d=\"M120-120v-720h720v720H120Zm60-500h600v-160H180v160Zm220 220h160v-160H400v160Zm0 220h160v-160H400v160ZM180-400h160v-160H180v160Zm440 0h160v-160H620v160ZM180-180h160v-160H180v160Zm440 0h160v-160H620v160Z\"/>\n",
       "  </svg>\n",
       "    </button>\n",
       "\n",
       "  <style>\n",
       "    .colab-df-container {\n",
       "      display:flex;\n",
       "      gap: 12px;\n",
       "    }\n",
       "\n",
       "    .colab-df-convert {\n",
       "      background-color: #E8F0FE;\n",
       "      border: none;\n",
       "      border-radius: 50%;\n",
       "      cursor: pointer;\n",
       "      display: none;\n",
       "      fill: #1967D2;\n",
       "      height: 32px;\n",
       "      padding: 0 0 0 0;\n",
       "      width: 32px;\n",
       "    }\n",
       "\n",
       "    .colab-df-convert:hover {\n",
       "      background-color: #E2EBFA;\n",
       "      box-shadow: 0px 1px 2px rgba(60, 64, 67, 0.3), 0px 1px 3px 1px rgba(60, 64, 67, 0.15);\n",
       "      fill: #174EA6;\n",
       "    }\n",
       "\n",
       "    .colab-df-buttons div {\n",
       "      margin-bottom: 4px;\n",
       "    }\n",
       "\n",
       "    [theme=dark] .colab-df-convert {\n",
       "      background-color: #3B4455;\n",
       "      fill: #D2E3FC;\n",
       "    }\n",
       "\n",
       "    [theme=dark] .colab-df-convert:hover {\n",
       "      background-color: #434B5C;\n",
       "      box-shadow: 0px 1px 3px 1px rgba(0, 0, 0, 0.15);\n",
       "      filter: drop-shadow(0px 1px 2px rgba(0, 0, 0, 0.3));\n",
       "      fill: #FFFFFF;\n",
       "    }\n",
       "  </style>\n",
       "\n",
       "    <script>\n",
       "      const buttonEl =\n",
       "        document.querySelector('#df-d5cd4eed-a1b1-4cf1-a922-8d05d9f0222e button.colab-df-convert');\n",
       "      buttonEl.style.display =\n",
       "        google.colab.kernel.accessAllowed ? 'block' : 'none';\n",
       "\n",
       "      async function convertToInteractive(key) {\n",
       "        const element = document.querySelector('#df-d5cd4eed-a1b1-4cf1-a922-8d05d9f0222e');\n",
       "        const dataTable =\n",
       "          await google.colab.kernel.invokeFunction('convertToInteractive',\n",
       "                                                    [key], {});\n",
       "        if (!dataTable) return;\n",
       "\n",
       "        const docLinkHtml = 'Like what you see? Visit the ' +\n",
       "          '<a target=\"_blank\" href=https://colab.research.google.com/notebooks/data_table.ipynb>data table notebook</a>'\n",
       "          + ' to learn more about interactive tables.';\n",
       "        element.innerHTML = '';\n",
       "        dataTable['output_type'] = 'display_data';\n",
       "        await google.colab.output.renderOutput(dataTable, element);\n",
       "        const docLink = document.createElement('div');\n",
       "        docLink.innerHTML = docLinkHtml;\n",
       "        element.appendChild(docLink);\n",
       "      }\n",
       "    </script>\n",
       "  </div>\n",
       "\n",
       "\n",
       "<div id=\"df-ace4951d-656b-413b-933b-697e9559092f\">\n",
       "  <button class=\"colab-df-quickchart\" onclick=\"quickchart('df-ace4951d-656b-413b-933b-697e9559092f')\"\n",
       "            title=\"Suggest charts.\"\n",
       "            style=\"display:none;\">\n",
       "\n",
       "<svg xmlns=\"http://www.w3.org/2000/svg\" height=\"24px\"viewBox=\"0 0 24 24\"\n",
       "     width=\"24px\">\n",
       "    <g>\n",
       "        <path d=\"M19 3H5c-1.1 0-2 .9-2 2v14c0 1.1.9 2 2 2h14c1.1 0 2-.9 2-2V5c0-1.1-.9-2-2-2zM9 17H7v-7h2v7zm4 0h-2V7h2v10zm4 0h-2v-4h2v4z\"/>\n",
       "    </g>\n",
       "</svg>\n",
       "  </button>\n",
       "\n",
       "<style>\n",
       "  .colab-df-quickchart {\n",
       "      --bg-color: #E8F0FE;\n",
       "      --fill-color: #1967D2;\n",
       "      --hover-bg-color: #E2EBFA;\n",
       "      --hover-fill-color: #174EA6;\n",
       "      --disabled-fill-color: #AAA;\n",
       "      --disabled-bg-color: #DDD;\n",
       "  }\n",
       "\n",
       "  [theme=dark] .colab-df-quickchart {\n",
       "      --bg-color: #3B4455;\n",
       "      --fill-color: #D2E3FC;\n",
       "      --hover-bg-color: #434B5C;\n",
       "      --hover-fill-color: #FFFFFF;\n",
       "      --disabled-bg-color: #3B4455;\n",
       "      --disabled-fill-color: #666;\n",
       "  }\n",
       "\n",
       "  .colab-df-quickchart {\n",
       "    background-color: var(--bg-color);\n",
       "    border: none;\n",
       "    border-radius: 50%;\n",
       "    cursor: pointer;\n",
       "    display: none;\n",
       "    fill: var(--fill-color);\n",
       "    height: 32px;\n",
       "    padding: 0;\n",
       "    width: 32px;\n",
       "  }\n",
       "\n",
       "  .colab-df-quickchart:hover {\n",
       "    background-color: var(--hover-bg-color);\n",
       "    box-shadow: 0 1px 2px rgba(60, 64, 67, 0.3), 0 1px 3px 1px rgba(60, 64, 67, 0.15);\n",
       "    fill: var(--button-hover-fill-color);\n",
       "  }\n",
       "\n",
       "  .colab-df-quickchart-complete:disabled,\n",
       "  .colab-df-quickchart-complete:disabled:hover {\n",
       "    background-color: var(--disabled-bg-color);\n",
       "    fill: var(--disabled-fill-color);\n",
       "    box-shadow: none;\n",
       "  }\n",
       "\n",
       "  .colab-df-spinner {\n",
       "    border: 2px solid var(--fill-color);\n",
       "    border-color: transparent;\n",
       "    border-bottom-color: var(--fill-color);\n",
       "    animation:\n",
       "      spin 1s steps(1) infinite;\n",
       "  }\n",
       "\n",
       "  @keyframes spin {\n",
       "    0% {\n",
       "      border-color: transparent;\n",
       "      border-bottom-color: var(--fill-color);\n",
       "      border-left-color: var(--fill-color);\n",
       "    }\n",
       "    20% {\n",
       "      border-color: transparent;\n",
       "      border-left-color: var(--fill-color);\n",
       "      border-top-color: var(--fill-color);\n",
       "    }\n",
       "    30% {\n",
       "      border-color: transparent;\n",
       "      border-left-color: var(--fill-color);\n",
       "      border-top-color: var(--fill-color);\n",
       "      border-right-color: var(--fill-color);\n",
       "    }\n",
       "    40% {\n",
       "      border-color: transparent;\n",
       "      border-right-color: var(--fill-color);\n",
       "      border-top-color: var(--fill-color);\n",
       "    }\n",
       "    60% {\n",
       "      border-color: transparent;\n",
       "      border-right-color: var(--fill-color);\n",
       "    }\n",
       "    80% {\n",
       "      border-color: transparent;\n",
       "      border-right-color: var(--fill-color);\n",
       "      border-bottom-color: var(--fill-color);\n",
       "    }\n",
       "    90% {\n",
       "      border-color: transparent;\n",
       "      border-bottom-color: var(--fill-color);\n",
       "    }\n",
       "  }\n",
       "</style>\n",
       "\n",
       "  <script>\n",
       "    async function quickchart(key) {\n",
       "      const quickchartButtonEl =\n",
       "        document.querySelector('#' + key + ' button');\n",
       "      quickchartButtonEl.disabled = true;  // To prevent multiple clicks.\n",
       "      quickchartButtonEl.classList.add('colab-df-spinner');\n",
       "      try {\n",
       "        const charts = await google.colab.kernel.invokeFunction(\n",
       "            'suggestCharts', [key], {});\n",
       "      } catch (error) {\n",
       "        console.error('Error during call to suggestCharts:', error);\n",
       "      }\n",
       "      quickchartButtonEl.classList.remove('colab-df-spinner');\n",
       "      quickchartButtonEl.classList.add('colab-df-quickchart-complete');\n",
       "    }\n",
       "    (() => {\n",
       "      let quickchartButtonEl =\n",
       "        document.querySelector('#df-ace4951d-656b-413b-933b-697e9559092f button');\n",
       "      quickchartButtonEl.style.display =\n",
       "        google.colab.kernel.accessAllowed ? 'block' : 'none';\n",
       "    })();\n",
       "  </script>\n",
       "</div>\n",
       "    </div>\n",
       "  </div>\n"
      ],
      "text/plain": [
       "         Date       Open       High        Low      Close  Adj Close   Volume\n",
       "0  2014-01-02  17.200001  17.219999  17.049999  17.100000  11.315717  1849000\n",
       "1  2014-01-03  17.070000  17.100000  16.870001  16.980000  11.236308  2485000\n",
       "2  2014-01-06  16.980000  17.030001  16.910000  17.020000  11.262780  1248000\n",
       "3  2014-01-07  17.070000  17.139999  16.950001  17.040001  11.276013  3530000\n",
       "4  2014-01-08  17.139999  17.389999  17.110001  17.370001  11.494388  5674000"
      ]
     },
     "execution_count": 37,
     "metadata": {},
     "output_type": "execute_result"
    }
   ],
   "source": [
    "training_df.head()"
   ]
  },
  {
   "cell_type": "code",
   "execution_count": null,
   "metadata": {
    "id": "GOqEVxq_oFEN"
   },
   "outputs": [],
   "source": [
    "#Use volume and high from previous to predict next high\n",
    "y_train = training_df['High']\n",
    "x_train = training_df.drop(columns = ['Date', 'Open','Low', 'Close', 'Adj Close'])\n",
    "y_test = testing_df['High']\n",
    "x_test = testing_df.drop(columns = ['Date', 'Open', 'Low', 'Close', 'Adj Close'])"
   ]
  },
  {
   "cell_type": "code",
   "execution_count": null,
   "metadata": {
    "colab": {
     "base_uri": "https://localhost:8080/"
    },
    "id": "IghAzhS7oi7N",
    "outputId": "59043e4a-c887-46f5-b526-a5812cdb2a5e"
   },
   "outputs": [
    {
     "name": "stdout",
     "output_type": "stream",
     "text": [
      "(2011,)\n",
      "(249,)\n",
      "(2011, 2)\n",
      "(249, 2)\n"
     ]
    }
   ],
   "source": [
    "#These will not be used as data transformation is required and is done below\n",
    "print(y_train.shape)\n",
    "print(y_test.shape)\n",
    "print(x_train.shape)\n",
    "print(x_test.shape)"
   ]
  },
  {
   "cell_type": "code",
   "execution_count": null,
   "metadata": {
    "colab": {
     "base_uri": "https://localhost:8080/",
     "height": 301
    },
    "id": "_nT67jKmAhEI",
    "outputId": "4214f432-6cd7-4a95-c4c2-6307b87d3ff7"
   },
   "outputs": [
    {
     "data": {
      "text/html": [
       "\n",
       "  <div id=\"df-b12d3124-5023-4e2d-acdc-e927815a915f\" class=\"colab-df-container\">\n",
       "    <div>\n",
       "<style scoped>\n",
       "    .dataframe tbody tr th:only-of-type {\n",
       "        vertical-align: middle;\n",
       "    }\n",
       "\n",
       "    .dataframe tbody tr th {\n",
       "        vertical-align: top;\n",
       "    }\n",
       "\n",
       "    .dataframe thead th {\n",
       "        text-align: right;\n",
       "    }\n",
       "</style>\n",
       "<table border=\"1\" class=\"dataframe\">\n",
       "  <thead>\n",
       "    <tr style=\"text-align: right;\">\n",
       "      <th></th>\n",
       "      <th>High</th>\n",
       "      <th>Volume</th>\n",
       "    </tr>\n",
       "  </thead>\n",
       "  <tbody>\n",
       "    <tr>\n",
       "      <th>count</th>\n",
       "      <td>2011.000000</td>\n",
       "      <td>2.011000e+03</td>\n",
       "    </tr>\n",
       "    <tr>\n",
       "      <th>mean</th>\n",
       "      <td>22.189697</td>\n",
       "      <td>4.772823e+06</td>\n",
       "    </tr>\n",
       "    <tr>\n",
       "      <th>std</th>\n",
       "      <td>4.816335</td>\n",
       "      <td>2.758125e+06</td>\n",
       "    </tr>\n",
       "    <tr>\n",
       "      <th>min</th>\n",
       "      <td>13.140000</td>\n",
       "      <td>0.000000e+00</td>\n",
       "    </tr>\n",
       "    <tr>\n",
       "      <th>25%</th>\n",
       "      <td>18.064999</td>\n",
       "      <td>3.055500e+06</td>\n",
       "    </tr>\n",
       "    <tr>\n",
       "      <th>50%</th>\n",
       "      <td>21.110001</td>\n",
       "      <td>4.099300e+06</td>\n",
       "    </tr>\n",
       "    <tr>\n",
       "      <th>75%</th>\n",
       "      <td>25.884999</td>\n",
       "      <td>5.599300e+06</td>\n",
       "    </tr>\n",
       "    <tr>\n",
       "      <th>max</th>\n",
       "      <td>32.799999</td>\n",
       "      <td>3.016260e+07</td>\n",
       "    </tr>\n",
       "  </tbody>\n",
       "</table>\n",
       "</div>\n",
       "    <div class=\"colab-df-buttons\">\n",
       "\n",
       "  <div class=\"colab-df-container\">\n",
       "    <button class=\"colab-df-convert\" onclick=\"convertToInteractive('df-b12d3124-5023-4e2d-acdc-e927815a915f')\"\n",
       "            title=\"Convert this dataframe to an interactive table.\"\n",
       "            style=\"display:none;\">\n",
       "\n",
       "  <svg xmlns=\"http://www.w3.org/2000/svg\" height=\"24px\" viewBox=\"0 -960 960 960\">\n",
       "    <path d=\"M120-120v-720h720v720H120Zm60-500h600v-160H180v160Zm220 220h160v-160H400v160Zm0 220h160v-160H400v160ZM180-400h160v-160H180v160Zm440 0h160v-160H620v160ZM180-180h160v-160H180v160Zm440 0h160v-160H620v160Z\"/>\n",
       "  </svg>\n",
       "    </button>\n",
       "\n",
       "  <style>\n",
       "    .colab-df-container {\n",
       "      display:flex;\n",
       "      gap: 12px;\n",
       "    }\n",
       "\n",
       "    .colab-df-convert {\n",
       "      background-color: #E8F0FE;\n",
       "      border: none;\n",
       "      border-radius: 50%;\n",
       "      cursor: pointer;\n",
       "      display: none;\n",
       "      fill: #1967D2;\n",
       "      height: 32px;\n",
       "      padding: 0 0 0 0;\n",
       "      width: 32px;\n",
       "    }\n",
       "\n",
       "    .colab-df-convert:hover {\n",
       "      background-color: #E2EBFA;\n",
       "      box-shadow: 0px 1px 2px rgba(60, 64, 67, 0.3), 0px 1px 3px 1px rgba(60, 64, 67, 0.15);\n",
       "      fill: #174EA6;\n",
       "    }\n",
       "\n",
       "    .colab-df-buttons div {\n",
       "      margin-bottom: 4px;\n",
       "    }\n",
       "\n",
       "    [theme=dark] .colab-df-convert {\n",
       "      background-color: #3B4455;\n",
       "      fill: #D2E3FC;\n",
       "    }\n",
       "\n",
       "    [theme=dark] .colab-df-convert:hover {\n",
       "      background-color: #434B5C;\n",
       "      box-shadow: 0px 1px 3px 1px rgba(0, 0, 0, 0.15);\n",
       "      filter: drop-shadow(0px 1px 2px rgba(0, 0, 0, 0.3));\n",
       "      fill: #FFFFFF;\n",
       "    }\n",
       "  </style>\n",
       "\n",
       "    <script>\n",
       "      const buttonEl =\n",
       "        document.querySelector('#df-b12d3124-5023-4e2d-acdc-e927815a915f button.colab-df-convert');\n",
       "      buttonEl.style.display =\n",
       "        google.colab.kernel.accessAllowed ? 'block' : 'none';\n",
       "\n",
       "      async function convertToInteractive(key) {\n",
       "        const element = document.querySelector('#df-b12d3124-5023-4e2d-acdc-e927815a915f');\n",
       "        const dataTable =\n",
       "          await google.colab.kernel.invokeFunction('convertToInteractive',\n",
       "                                                    [key], {});\n",
       "        if (!dataTable) return;\n",
       "\n",
       "        const docLinkHtml = 'Like what you see? Visit the ' +\n",
       "          '<a target=\"_blank\" href=https://colab.research.google.com/notebooks/data_table.ipynb>data table notebook</a>'\n",
       "          + ' to learn more about interactive tables.';\n",
       "        element.innerHTML = '';\n",
       "        dataTable['output_type'] = 'display_data';\n",
       "        await google.colab.output.renderOutput(dataTable, element);\n",
       "        const docLink = document.createElement('div');\n",
       "        docLink.innerHTML = docLinkHtml;\n",
       "        element.appendChild(docLink);\n",
       "      }\n",
       "    </script>\n",
       "  </div>\n",
       "\n",
       "\n",
       "<div id=\"df-0a8110d5-11f7-4386-aa0c-37ae4bf47531\">\n",
       "  <button class=\"colab-df-quickchart\" onclick=\"quickchart('df-0a8110d5-11f7-4386-aa0c-37ae4bf47531')\"\n",
       "            title=\"Suggest charts.\"\n",
       "            style=\"display:none;\">\n",
       "\n",
       "<svg xmlns=\"http://www.w3.org/2000/svg\" height=\"24px\"viewBox=\"0 0 24 24\"\n",
       "     width=\"24px\">\n",
       "    <g>\n",
       "        <path d=\"M19 3H5c-1.1 0-2 .9-2 2v14c0 1.1.9 2 2 2h14c1.1 0 2-.9 2-2V5c0-1.1-.9-2-2-2zM9 17H7v-7h2v7zm4 0h-2V7h2v10zm4 0h-2v-4h2v4z\"/>\n",
       "    </g>\n",
       "</svg>\n",
       "  </button>\n",
       "\n",
       "<style>\n",
       "  .colab-df-quickchart {\n",
       "      --bg-color: #E8F0FE;\n",
       "      --fill-color: #1967D2;\n",
       "      --hover-bg-color: #E2EBFA;\n",
       "      --hover-fill-color: #174EA6;\n",
       "      --disabled-fill-color: #AAA;\n",
       "      --disabled-bg-color: #DDD;\n",
       "  }\n",
       "\n",
       "  [theme=dark] .colab-df-quickchart {\n",
       "      --bg-color: #3B4455;\n",
       "      --fill-color: #D2E3FC;\n",
       "      --hover-bg-color: #434B5C;\n",
       "      --hover-fill-color: #FFFFFF;\n",
       "      --disabled-bg-color: #3B4455;\n",
       "      --disabled-fill-color: #666;\n",
       "  }\n",
       "\n",
       "  .colab-df-quickchart {\n",
       "    background-color: var(--bg-color);\n",
       "    border: none;\n",
       "    border-radius: 50%;\n",
       "    cursor: pointer;\n",
       "    display: none;\n",
       "    fill: var(--fill-color);\n",
       "    height: 32px;\n",
       "    padding: 0;\n",
       "    width: 32px;\n",
       "  }\n",
       "\n",
       "  .colab-df-quickchart:hover {\n",
       "    background-color: var(--hover-bg-color);\n",
       "    box-shadow: 0 1px 2px rgba(60, 64, 67, 0.3), 0 1px 3px 1px rgba(60, 64, 67, 0.15);\n",
       "    fill: var(--button-hover-fill-color);\n",
       "  }\n",
       "\n",
       "  .colab-df-quickchart-complete:disabled,\n",
       "  .colab-df-quickchart-complete:disabled:hover {\n",
       "    background-color: var(--disabled-bg-color);\n",
       "    fill: var(--disabled-fill-color);\n",
       "    box-shadow: none;\n",
       "  }\n",
       "\n",
       "  .colab-df-spinner {\n",
       "    border: 2px solid var(--fill-color);\n",
       "    border-color: transparent;\n",
       "    border-bottom-color: var(--fill-color);\n",
       "    animation:\n",
       "      spin 1s steps(1) infinite;\n",
       "  }\n",
       "\n",
       "  @keyframes spin {\n",
       "    0% {\n",
       "      border-color: transparent;\n",
       "      border-bottom-color: var(--fill-color);\n",
       "      border-left-color: var(--fill-color);\n",
       "    }\n",
       "    20% {\n",
       "      border-color: transparent;\n",
       "      border-left-color: var(--fill-color);\n",
       "      border-top-color: var(--fill-color);\n",
       "    }\n",
       "    30% {\n",
       "      border-color: transparent;\n",
       "      border-left-color: var(--fill-color);\n",
       "      border-top-color: var(--fill-color);\n",
       "      border-right-color: var(--fill-color);\n",
       "    }\n",
       "    40% {\n",
       "      border-color: transparent;\n",
       "      border-right-color: var(--fill-color);\n",
       "      border-top-color: var(--fill-color);\n",
       "    }\n",
       "    60% {\n",
       "      border-color: transparent;\n",
       "      border-right-color: var(--fill-color);\n",
       "    }\n",
       "    80% {\n",
       "      border-color: transparent;\n",
       "      border-right-color: var(--fill-color);\n",
       "      border-bottom-color: var(--fill-color);\n",
       "    }\n",
       "    90% {\n",
       "      border-color: transparent;\n",
       "      border-bottom-color: var(--fill-color);\n",
       "    }\n",
       "  }\n",
       "</style>\n",
       "\n",
       "  <script>\n",
       "    async function quickchart(key) {\n",
       "      const quickchartButtonEl =\n",
       "        document.querySelector('#' + key + ' button');\n",
       "      quickchartButtonEl.disabled = true;  // To prevent multiple clicks.\n",
       "      quickchartButtonEl.classList.add('colab-df-spinner');\n",
       "      try {\n",
       "        const charts = await google.colab.kernel.invokeFunction(\n",
       "            'suggestCharts', [key], {});\n",
       "      } catch (error) {\n",
       "        console.error('Error during call to suggestCharts:', error);\n",
       "      }\n",
       "      quickchartButtonEl.classList.remove('colab-df-spinner');\n",
       "      quickchartButtonEl.classList.add('colab-df-quickchart-complete');\n",
       "    }\n",
       "    (() => {\n",
       "      let quickchartButtonEl =\n",
       "        document.querySelector('#df-0a8110d5-11f7-4386-aa0c-37ae4bf47531 button');\n",
       "      quickchartButtonEl.style.display =\n",
       "        google.colab.kernel.accessAllowed ? 'block' : 'none';\n",
       "    })();\n",
       "  </script>\n",
       "</div>\n",
       "    </div>\n",
       "  </div>\n"
      ],
      "text/plain": [
       "              High        Volume\n",
       "count  2011.000000  2.011000e+03\n",
       "mean     22.189697  4.772823e+06\n",
       "std       4.816335  2.758125e+06\n",
       "min      13.140000  0.000000e+00\n",
       "25%      18.064999  3.055500e+06\n",
       "50%      21.110001  4.099300e+06\n",
       "75%      25.884999  5.599300e+06\n",
       "max      32.799999  3.016260e+07"
      ]
     },
     "execution_count": 40,
     "metadata": {},
     "output_type": "execute_result"
    }
   ],
   "source": [
    "x_train.describe()"
   ]
  },
  {
   "cell_type": "code",
   "execution_count": null,
   "metadata": {
    "colab": {
     "base_uri": "https://localhost:8080/"
    },
    "id": "FWcp9PO-BKmG",
    "outputId": "6dfe5473-b419-4ca6-bddb-eea0f2c80cd7"
   },
   "outputs": [
    {
     "data": {
      "text/plain": [
       "High      0\n",
       "Volume    0\n",
       "dtype: int64"
      ]
     },
     "execution_count": 41,
     "metadata": {},
     "output_type": "execute_result"
    }
   ],
   "source": [
    "x_train.isnull().sum()"
   ]
  },
  {
   "cell_type": "code",
   "execution_count": null,
   "metadata": {
    "colab": {
     "base_uri": "https://localhost:8080/"
    },
    "id": "o74Hm5n7AlP4",
    "outputId": "3bd52b95-aa1a-49bc-cf42-c7eb46c48863"
   },
   "outputs": [
    {
     "data": {
      "text/plain": [
       "count    2011.000000\n",
       "mean       22.189697\n",
       "std         4.816335\n",
       "min        13.140000\n",
       "25%        18.064999\n",
       "50%        21.110001\n",
       "75%        25.884999\n",
       "max        32.799999\n",
       "Name: High, dtype: float64"
      ]
     },
     "execution_count": 42,
     "metadata": {},
     "output_type": "execute_result"
    }
   ],
   "source": [
    "y_train.describe()"
   ]
  },
  {
   "cell_type": "code",
   "execution_count": null,
   "metadata": {
    "colab": {
     "base_uri": "https://localhost:8080/"
    },
    "id": "2zlIhwrMBM4H",
    "outputId": "ba6591f8-7962-4a4e-aa04-df0fc1e58bf2"
   },
   "outputs": [
    {
     "data": {
      "text/plain": [
       "High      0\n",
       "Volume    0\n",
       "dtype: int64"
      ]
     },
     "execution_count": 43,
     "metadata": {},
     "output_type": "execute_result"
    }
   ],
   "source": [
    "x_test.isnull().sum()"
   ]
  },
  {
   "cell_type": "code",
   "execution_count": null,
   "metadata": {
    "colab": {
     "base_uri": "https://localhost:8080/"
    },
    "id": "RbwQrxZc7eox",
    "outputId": "b351744c-eaed-4bb8-a607-eb401d1ba568"
   },
   "outputs": [
    {
     "name": "stdout",
     "output_type": "stream",
     "text": [
      "32.799999\n",
      "13.14\n",
      "37.490002\n",
      "29.75\n"
     ]
    }
   ],
   "source": [
    "print(training_df['High'].max())\n",
    "print(training_df['High'].min())\n",
    "print(testing_df['High'].max())\n",
    "print(testing_df['High'].min())"
   ]
  },
  {
   "cell_type": "markdown",
   "metadata": {
    "id": "Zi8OpcfWAUnF"
   },
   "source": [
    "## Exploratory Data Analysis Summary\n",
    "- There are 2011 records in the training dataset and 249 records in the testing dataset\n",
    "- The High prices are range between 13.14 to 37.49\n",
    "- There are also no missing values in the dataset"
   ]
  },
  {
   "cell_type": "code",
   "execution_count": null,
   "metadata": {
    "id": "X4sx8HaOwJvg"
   },
   "outputs": [],
   "source": [
    "#Transform training dataset into  (, 52, 2)\n",
    "\n",
    "sequence_days = 52\n",
    "input_sequences = []\n",
    "target_values = []\n",
    "\n",
    "for i in range(len(training_df) - sequence_days):\n",
    "    sequence_high = training_df['High'][i:i + sequence_days].values\n",
    "    sequence_volume = training_df['Volume'][i:i + sequence_days].values\n",
    "\n",
    "    target_high = training_df['High'][i + sequence_days:i + sequence_days + 1].values\n",
    "\n",
    "    input_sequence = list(zip(sequence_high, sequence_volume))\n",
    "\n",
    "    input_sequences.append(input_sequence)\n",
    "    target_values.append(target_high)\n",
    "\n",
    "#Convert sequence and values into numpy arrays\n",
    "input_sequences = np.array(input_sequences)\n",
    "target_values = np.array(target_values)\n",
    "\n",
    "#Reshape into (,52,2)\n",
    "input_sequences_reshaped = input_sequences.reshape(input_sequences.shape[0], sequence_days, 2)"
   ]
  },
  {
   "cell_type": "code",
   "execution_count": null,
   "metadata": {
    "id": "0O5UMu1o5ReQ"
   },
   "outputs": [],
   "source": [
    "#Do the same transformation for testing dataset\n",
    "\n",
    "testing_sequences = []\n",
    "testing_target = []\n",
    "\n",
    "for i in range(len(testing_df) - sequence_days):\n",
    "    sequence_high = testing_df['High'][i:i + sequence_days].values\n",
    "    sequence_volume = testing_df['Volume'][i:i + sequence_days].values\n",
    "\n",
    "    target_high = testing_df['High'][i + sequence_days:i + sequence_days + 1].values\n",
    "\n",
    "    input_sequence = list(zip(sequence_high, sequence_volume))\n",
    "\n",
    "    testing_sequences.append(input_sequence)\n",
    "    testing_target.append(target_high)\n",
    "\n",
    "#Convert sequence and values into numpy arrays\n",
    "testing_sequences = np.array(testing_sequences)\n",
    "testing_target = np.array(testing_target)\n",
    "\n",
    "#Reshape into (,52,2)\n",
    "testing_sequences_reshaped = testing_sequences.reshape(testing_sequences.shape[0], sequence_days, 2)"
   ]
  },
  {
   "cell_type": "code",
   "execution_count": null,
   "metadata": {
    "colab": {
     "base_uri": "https://localhost:8080/"
    },
    "id": "4nwY1CCi5wiP",
    "outputId": "08ab67a7-7ed8-49e6-d4de-1c114aaee967"
   },
   "outputs": [
    {
     "name": "stdout",
     "output_type": "stream",
     "text": [
      "(197, 52, 2)\n",
      "197\n"
     ]
    }
   ],
   "source": [
    "print(testing_sequences_reshaped.shape)\n",
    "print(249-52)"
   ]
  },
  {
   "cell_type": "code",
   "execution_count": null,
   "metadata": {
    "colab": {
     "base_uri": "https://localhost:8080/"
    },
    "id": "TwD0uPdoyKHC",
    "outputId": "918d7809-ae12-418c-da26-2825a766713b"
   },
   "outputs": [
    {
     "data": {
      "text/plain": [
       "1959"
      ]
     },
     "execution_count": 47,
     "metadata": {},
     "output_type": "execute_result"
    }
   ],
   "source": [
    "len(training_df) - sequence_days"
   ]
  },
  {
   "cell_type": "code",
   "execution_count": null,
   "metadata": {
    "colab": {
     "base_uri": "https://localhost:8080/"
    },
    "id": "BSToHyV_y1Ay",
    "outputId": "4f927f8e-e1b0-476d-9d56-7ca6b17af2b6"
   },
   "outputs": [
    {
     "data": {
      "text/plain": [
       "array([1.598e+01, 4.210e+06])"
      ]
     },
     "execution_count": 48,
     "metadata": {},
     "output_type": "execute_result"
    }
   ],
   "source": [
    "#This is the high and volume at index 51\n",
    "#input sequence[0] is t = 0 to t = 52 which predicts t = 53\n",
    "#input sequence[1] is t = 1 to t = 53 which predicts t = 54\n",
    "input_sequences[0][-1]"
   ]
  },
  {
   "cell_type": "code",
   "execution_count": null,
   "metadata": {
    "colab": {
     "base_uri": "https://localhost:8080/"
    },
    "id": "IOAilbTkzttx",
    "outputId": "9697cc42-a819-40f5-8642-05408ab46ea2"
   },
   "outputs": [
    {
     "name": "stdout",
     "output_type": "stream",
     "text": [
      "[1.598e+01 4.210e+06]\n",
      "[1.588e+01 3.704e+06]\n",
      "\n",
      "High        15.98\n",
      "Volume    4210000\n",
      "Name: 51, dtype: object\n",
      "High        15.88\n",
      "Volume    3704000\n",
      "Name: 52, dtype: object\n"
     ]
    }
   ],
   "source": [
    "print(input_sequences[1][-2]) #t = 52\n",
    "print(input_sequences[1][-1]) #t = 53\n",
    "#Check t = 52\n",
    "print()\n",
    "print(training_df.iloc[51][['High', 'Volume']])\n",
    "print(training_df.iloc[52][['High', 'Volume']])"
   ]
  },
  {
   "cell_type": "code",
   "execution_count": null,
   "metadata": {
    "colab": {
     "base_uri": "https://localhost:8080/"
    },
    "id": "KzDmX5fswJxh",
    "outputId": "05eec216-0a09-442d-a3c9-448ef4498918"
   },
   "outputs": [
    {
     "name": "stdout",
     "output_type": "stream",
     "text": [
      "[15.88]\n",
      "15.88\n"
     ]
    }
   ],
   "source": [
    "print(target_values[0])\n",
    "print(training_df.iloc[52]['High'])"
   ]
  },
  {
   "cell_type": "markdown",
   "metadata": {
    "id": "gSnrGm0nzcyY"
   },
   "source": [
    "Using t = 0 to t = 51 values to predict t = 52"
   ]
  },
  {
   "cell_type": "code",
   "execution_count": null,
   "metadata": {
    "colab": {
     "base_uri": "https://localhost:8080/"
    },
    "id": "sKAPzwzD0ZDH",
    "outputId": "a2d0c8b9-7a3d-44f1-b1d7-2836b5683d23"
   },
   "outputs": [
    {
     "name": "stdout",
     "output_type": "stream",
     "text": [
      "(1959, 52, 2)\n"
     ]
    }
   ],
   "source": [
    "print(input_sequences_reshaped.shape) #1959 because the first 52 cannot be used. Each of the additional dimensions are Y(t-52) to Y(t)"
   ]
  },
  {
   "cell_type": "code",
   "execution_count": null,
   "metadata": {
    "colab": {
     "base_uri": "https://localhost:8080/"
    },
    "id": "4JDUHfBV00WR",
    "outputId": "09a501cc-ae74-4257-f188-5605f885f4ce"
   },
   "outputs": [
    {
     "name": "stdout",
     "output_type": "stream",
     "text": [
      "(1959, 1)\n"
     ]
    }
   ],
   "source": [
    "print(target_values.shape) #Y-train"
   ]
  },
  {
   "cell_type": "markdown",
   "metadata": {
    "id": "nF5y1lO71A8G"
   },
   "source": [
    "- Final iteration n = 52 days\n",
    "- input X is 2 dimensional, high and volume\n",
    "- Dimension of hidden state = h and c vector size. At least 100 dimensions, use 128\n",
    "- Predicting 1 value, linear, metrics = mean absolute error"
   ]
  },
  {
   "cell_type": "code",
   "execution_count": null,
   "metadata": {
    "colab": {
     "base_uri": "https://localhost:8080/"
    },
    "id": "OVdUoUrq1AMW",
    "outputId": "a44f664c-15fc-497b-efa4-9be03ae0f943"
   },
   "outputs": [
    {
     "name": "stdout",
     "output_type": "stream",
     "text": [
      "Build model...\n",
      "Model: \"sequential_2\"\n",
      "_________________________________________________________________\n",
      " Layer (type)                Output Shape              Param #   \n",
      "=================================================================\n",
      " lstm_2 (LSTM)               (None, 128)               67072     \n",
      "                                                                 \n",
      " dense_2 (Dense)             (None, 1)                 129       \n",
      "                                                                 \n",
      "=================================================================\n",
      "Total params: 67201 (262.50 KB)\n",
      "Trainable params: 67201 (262.50 KB)\n",
      "Non-trainable params: 0 (0.00 Byte)\n",
      "_________________________________________________________________\n",
      "None\n"
     ]
    }
   ],
   "source": [
    "#Building the LSTM model\n",
    "print('Build model...')\n",
    "model = Sequential()\n",
    "model.add(LSTM(128, input_shape = (sequence_days,2))) #128 Dimensions, input shape (, 52, 2)\n",
    "\n",
    "# model.add(Dense(1, activation='linear')) #Predicting 1 value only\n",
    "\n",
    "model.add(Dense(1))\n",
    "model.compile(optimizer='adam', loss='mean_squared_error', metrics=['mae'])\n",
    "print (model.summary())"
   ]
  },
  {
   "cell_type": "code",
   "execution_count": null,
   "metadata": {
    "colab": {
     "base_uri": "https://localhost:8080/"
    },
    "id": "K19Ob_Xv3ru6",
    "outputId": "c66499ee-7b0c-4dda-eeb4-eec3857451b2"
   },
   "outputs": [
    {
     "data": {
      "text/plain": [
       "array([[15.88    ],\n",
       "       [15.77    ],\n",
       "       [15.76    ],\n",
       "       ...,\n",
       "       [32.75    ],\n",
       "       [32.799999],\n",
       "       [32.799999]])"
      ]
     },
     "execution_count": 54,
     "metadata": {},
     "output_type": "execute_result"
    }
   ],
   "source": [
    "target_values"
   ]
  },
  {
   "cell_type": "code",
   "execution_count": null,
   "metadata": {
    "colab": {
     "base_uri": "https://localhost:8080/"
    },
    "id": "-mUEM3HnTV3Q",
    "outputId": "41079fa1-d9ce-42cd-c1ca-ed31616ace7a"
   },
   "outputs": [
    {
     "name": "stdout",
     "output_type": "stream",
     "text": [
      "1959\n",
      "1959\n"
     ]
    }
   ],
   "source": [
    "print(len(target_values))\n",
    "print(len(input_sequences_reshaped))"
   ]
  },
  {
   "cell_type": "code",
   "execution_count": null,
   "metadata": {
    "colab": {
     "base_uri": "https://localhost:8080/"
    },
    "id": "J6_5reFH3CC4",
    "outputId": "6f459247-b532-47cc-c2eb-91f2838f71cf"
   },
   "outputs": [
    {
     "name": "stdout",
     "output_type": "stream",
     "text": [
      "Train...\n",
      "Epoch 1/51\n",
      "16/16 [==============================] - 3s 94ms/step - loss: 444.7256 - mae: 20.6664 - val_loss: 712.1638 - val_mae: 26.3697\n",
      "Epoch 2/51\n",
      " 1/16 [>.............................] - ETA: 1s - loss: 443.6365 - mae: 20.6148"
     ]
    },
    {
     "name": "stderr",
     "output_type": "stream",
     "text": [
      "/usr/local/lib/python3.10/dist-packages/keras/src/engine/training.py:3079: UserWarning: You are saving your model as an HDF5 file via `model.save()`. This file format is considered legacy. We recommend using instead the native Keras format, e.g. `model.save('my_model.keras')`.\n",
      "  saving_api.save_model(\n"
     ]
    },
    {
     "name": "stdout",
     "output_type": "stream",
     "text": [
      "16/16 [==============================] - 2s 109ms/step - loss: 425.7256 - mae: 20.2028 - val_loss: 693.1076 - val_mae: 26.0059\n",
      "Epoch 3/51\n",
      "16/16 [==============================] - 1s 69ms/step - loss: 407.9303 - mae: 19.7591 - val_loss: 674.5082 - val_mae: 25.6458\n",
      "Epoch 4/51\n",
      "16/16 [==============================] - 1s 70ms/step - loss: 391.3372 - mae: 19.3328 - val_loss: 656.3263 - val_mae: 25.2888\n",
      "Epoch 5/51\n",
      "16/16 [==============================] - 1s 70ms/step - loss: 375.7011 - mae: 18.9232 - val_loss: 638.6268 - val_mae: 24.9364\n",
      "Epoch 6/51\n",
      "16/16 [==============================] - 1s 69ms/step - loss: 360.7891 - mae: 18.5207 - val_loss: 621.2915 - val_mae: 24.5864\n",
      "Epoch 7/51\n",
      "16/16 [==============================] - 1s 68ms/step - loss: 346.3380 - mae: 18.1247 - val_loss: 604.4424 - val_mae: 24.2413\n",
      "Epoch 8/51\n",
      "16/16 [==============================] - 1s 69ms/step - loss: 332.5775 - mae: 17.7351 - val_loss: 587.9478 - val_mae: 23.8987\n",
      "Epoch 9/51\n",
      "16/16 [==============================] - 1s 67ms/step - loss: 319.3063 - mae: 17.3528 - val_loss: 571.9089 - val_mae: 23.5607\n",
      "Epoch 10/51\n",
      "16/16 [==============================] - 1s 67ms/step - loss: 306.5572 - mae: 16.9742 - val_loss: 556.2177 - val_mae: 23.2253\n",
      "Epoch 11/51\n",
      "16/16 [==============================] - 1s 67ms/step - loss: 294.3043 - mae: 16.6049 - val_loss: 540.9822 - val_mae: 22.8950\n",
      "Epoch 12/51\n",
      "16/16 [==============================] - 2s 101ms/step - loss: 282.4822 - mae: 16.2401 - val_loss: 526.1306 - val_mae: 22.5683\n",
      "Epoch 13/51\n",
      "16/16 [==============================] - 2s 93ms/step - loss: 271.1127 - mae: 15.8801 - val_loss: 511.6283 - val_mae: 22.2447\n",
      "Epoch 14/51\n",
      "16/16 [==============================] - 1s 81ms/step - loss: 260.1469 - mae: 15.5254 - val_loss: 497.5062 - val_mae: 21.9250\n",
      "Epoch 15/51\n",
      "16/16 [==============================] - 1s 68ms/step - loss: 249.6169 - mae: 15.1785 - val_loss: 483.7382 - val_mae: 21.6087\n",
      "Epoch 16/51\n",
      "16/16 [==============================] - 1s 70ms/step - loss: 239.4226 - mae: 14.8361 - val_loss: 470.3927 - val_mae: 21.2977\n",
      "Epoch 17/51\n",
      "16/16 [==============================] - 1s 69ms/step - loss: 229.6706 - mae: 14.4986 - val_loss: 457.3504 - val_mae: 20.9892\n",
      "Epoch 18/51\n",
      "16/16 [==============================] - 1s 68ms/step - loss: 220.2184 - mae: 14.1658 - val_loss: 444.7029 - val_mae: 20.6858\n",
      "Epoch 19/51\n",
      "16/16 [==============================] - 1s 67ms/step - loss: 211.1745 - mae: 13.8393 - val_loss: 432.3668 - val_mae: 20.3854\n",
      "Epoch 20/51\n",
      "16/16 [==============================] - 1s 68ms/step - loss: 202.4511 - mae: 13.5144 - val_loss: 420.3100 - val_mae: 20.0875\n",
      "Epoch 21/51\n",
      "16/16 [==============================] - 1s 68ms/step - loss: 194.0302 - mae: 13.1966 - val_loss: 408.6928 - val_mae: 19.7962\n",
      "Epoch 22/51\n",
      "16/16 [==============================] - 2s 111ms/step - loss: 186.0012 - mae: 12.8823 - val_loss: 397.2950 - val_mae: 19.5062\n",
      "Epoch 23/51\n",
      "16/16 [==============================] - 1s 70ms/step - loss: 178.2165 - mae: 12.5723 - val_loss: 386.2603 - val_mae: 19.2213\n",
      "Epoch 24/51\n",
      "16/16 [==============================] - 1s 71ms/step - loss: 170.7854 - mae: 12.2667 - val_loss: 375.5116 - val_mae: 18.9396\n",
      "Epoch 25/51\n",
      "16/16 [==============================] - 1s 69ms/step - loss: 163.6166 - mae: 11.9663 - val_loss: 365.1153 - val_mae: 18.6631\n",
      "Epoch 26/51\n",
      "16/16 [==============================] - 1s 68ms/step - loss: 156.7765 - mae: 11.6698 - val_loss: 354.9553 - val_mae: 18.3889\n",
      "Epoch 27/51\n",
      "16/16 [==============================] - 1s 68ms/step - loss: 150.1627 - mae: 11.3793 - val_loss: 345.1478 - val_mae: 18.1203\n",
      "Epoch 28/51\n",
      "16/16 [==============================] - 1s 68ms/step - loss: 143.8527 - mae: 11.0922 - val_loss: 335.5962 - val_mae: 17.8548\n",
      "Epoch 29/51\n",
      "16/16 [==============================] - 1s 69ms/step - loss: 137.8033 - mae: 10.8094 - val_loss: 326.3030 - val_mae: 17.5926\n",
      "Epoch 30/51\n",
      "16/16 [==============================] - 1s 65ms/step - loss: 131.9863 - mae: 10.5317 - val_loss: 317.2961 - val_mae: 17.3348\n",
      "Epoch 31/51\n",
      "16/16 [==============================] - 1s 72ms/step - loss: 126.4337 - mae: 10.2581 - val_loss: 308.5362 - val_mae: 17.0802\n",
      "Epoch 32/51\n",
      "16/16 [==============================] - 2s 103ms/step - loss: 121.1264 - mae: 9.9871 - val_loss: 299.9940 - val_mae: 16.8283\n",
      "Epoch 33/51\n",
      "16/16 [==============================] - 1s 79ms/step - loss: 116.0193 - mae: 9.7229 - val_loss: 291.7681 - val_mae: 16.5821\n",
      "Epoch 34/51\n",
      "16/16 [==============================] - 1s 68ms/step - loss: 111.1567 - mae: 9.4660 - val_loss: 283.8062 - val_mae: 16.3403\n",
      "Epoch 35/51\n",
      "16/16 [==============================] - 1s 67ms/step - loss: 106.5087 - mae: 9.2134 - val_loss: 276.0725 - val_mae: 16.1019\n",
      "Epoch 36/51\n",
      "16/16 [==============================] - 1s 68ms/step - loss: 102.0735 - mae: 8.9654 - val_loss: 268.5442 - val_mae: 15.8664\n",
      "Epoch 37/51\n",
      "16/16 [==============================] - 1s 68ms/step - loss: 97.8506 - mae: 8.7229 - val_loss: 261.2194 - val_mae: 15.6338\n",
      "Epoch 38/51\n",
      "16/16 [==============================] - 1s 69ms/step - loss: 93.7723 - mae: 8.4889 - val_loss: 254.2404 - val_mae: 15.4090\n",
      "Epoch 39/51\n",
      "16/16 [==============================] - 1s 71ms/step - loss: 89.9593 - mae: 8.2640 - val_loss: 247.3736 - val_mae: 15.1846\n",
      "Epoch 40/51\n",
      "16/16 [==============================] - 1s 69ms/step - loss: 86.2696 - mae: 8.0486 - val_loss: 240.7758 - val_mae: 14.9657\n",
      "Epoch 41/51\n",
      "16/16 [==============================] - 1s 67ms/step - loss: 82.7821 - mae: 7.8414 - val_loss: 234.3721 - val_mae: 14.7502\n",
      "Epoch 42/51\n",
      "16/16 [==============================] - 1s 90ms/step - loss: 79.4341 - mae: 7.6348 - val_loss: 228.1793 - val_mae: 14.5388\n",
      "Epoch 43/51\n",
      "16/16 [==============================] - 1s 88ms/step - loss: 76.2804 - mae: 7.4388 - val_loss: 222.1189 - val_mae: 14.3289\n",
      "Epoch 44/51\n",
      "16/16 [==============================] - 1s 69ms/step - loss: 73.2411 - mae: 7.2498 - val_loss: 216.3172 - val_mae: 14.1250\n",
      "Epoch 45/51\n",
      "16/16 [==============================] - 1s 70ms/step - loss: 70.3676 - mae: 7.0710 - val_loss: 210.7224 - val_mae: 13.9255\n",
      "Epoch 46/51\n",
      "16/16 [==============================] - 1s 69ms/step - loss: 67.6518 - mae: 6.9008 - val_loss: 205.2697 - val_mae: 13.7283\n",
      "Epoch 47/51\n",
      "16/16 [==============================] - 1s 69ms/step - loss: 65.0432 - mae: 6.7395 - val_loss: 200.0585 - val_mae: 13.5372\n",
      "Epoch 48/51\n",
      "16/16 [==============================] - 1s 70ms/step - loss: 62.6040 - mae: 6.5858 - val_loss: 194.9372 - val_mae: 13.3467\n",
      "Epoch 49/51\n",
      "16/16 [==============================] - 1s 70ms/step - loss: 60.2653 - mae: 6.4385 - val_loss: 190.0177 - val_mae: 13.1611\n",
      "Epoch 50/51\n",
      "16/16 [==============================] - 2s 98ms/step - loss: 58.0210 - mae: 6.2916 - val_loss: 185.3217 - val_mae: 12.9815\n",
      "Epoch 51/51\n",
      "16/16 [==============================] - 1s 91ms/step - loss: 55.9357 - mae: 6.1541 - val_loss: 180.7105 - val_mae: 12.8027\n"
     ]
    }
   ],
   "source": [
    "batch_size = 100\n",
    "checkpoint = ModelCheckpoint('DBS_stock_LSTM{epoch:02d}.h5')\n",
    "\n",
    "print('Train...')\n",
    "history = model.fit(input_sequences_reshaped, target_values,\n",
    "          batch_size=batch_size,\n",
    "          epochs=51,\n",
    "          validation_split = 0.2,\n",
    "          callbacks=[checkpoint])"
   ]
  },
  {
   "cell_type": "code",
   "execution_count": null,
   "metadata": {
    "colab": {
     "base_uri": "https://localhost:8080/",
     "height": 17
    },
    "id": "IlEotI8q4kDx",
    "outputId": "32944aa0-2c1c-4b0d-92af-d4398a40772b"
   },
   "outputs": [
    {
     "data": {
      "application/javascript": [
       "\n",
       "    async function download(id, filename, size) {\n",
       "      if (!google.colab.kernel.accessAllowed) {\n",
       "        return;\n",
       "      }\n",
       "      const div = document.createElement('div');\n",
       "      const label = document.createElement('label');\n",
       "      label.textContent = `Downloading \"${filename}\": `;\n",
       "      div.appendChild(label);\n",
       "      const progress = document.createElement('progress');\n",
       "      progress.max = size;\n",
       "      div.appendChild(progress);\n",
       "      document.body.appendChild(div);\n",
       "\n",
       "      const buffers = [];\n",
       "      let downloaded = 0;\n",
       "\n",
       "      const channel = await google.colab.kernel.comms.open(id);\n",
       "      // Send a message to notify the kernel that we're ready.\n",
       "      channel.send({})\n",
       "\n",
       "      for await (const message of channel.messages) {\n",
       "        // Send a message to notify the kernel that we're ready.\n",
       "        channel.send({})\n",
       "        if (message.buffers) {\n",
       "          for (const buffer of message.buffers) {\n",
       "            buffers.push(buffer);\n",
       "            downloaded += buffer.byteLength;\n",
       "            progress.value = downloaded;\n",
       "          }\n",
       "        }\n",
       "      }\n",
       "      const blob = new Blob(buffers, {type: 'application/binary'});\n",
       "      const a = document.createElement('a');\n",
       "      a.href = window.URL.createObjectURL(blob);\n",
       "      a.download = filename;\n",
       "      div.appendChild(a);\n",
       "      a.click();\n",
       "      div.remove();\n",
       "    }\n",
       "  "
      ],
      "text/plain": [
       "<IPython.core.display.Javascript object>"
      ]
     },
     "metadata": {},
     "output_type": "display_data"
    },
    {
     "data": {
      "application/javascript": [
       "download(\"download_b5572d8c-1ab1-4911-95af-474a06bd5a96\", \"DBS_stock_LSTM51.h5\", 835152)"
      ],
      "text/plain": [
       "<IPython.core.display.Javascript object>"
      ]
     },
     "metadata": {},
     "output_type": "display_data"
    }
   ],
   "source": [
    "from google.colab import files\n",
    "files.download(\"DBS_stock_LSTM51.h5\") #Last model has the lowest validation MAE"
   ]
  },
  {
   "cell_type": "code",
   "execution_count": null,
   "metadata": {
    "colab": {
     "base_uri": "https://localhost:8080/"
    },
    "id": "WZn60dl0UIZg",
    "outputId": "9b2d9c75-da5e-4561-b825-d141af8ae433"
   },
   "outputs": [
    {
     "name": "stdout",
     "output_type": "stream",
     "text": [
      "(1959, 52, 2)\n",
      "(1959, 1)\n",
      "(197, 52, 2)\n",
      "(197, 1)\n"
     ]
    }
   ],
   "source": [
    "print(input_sequences_reshaped.shape)\n",
    "print(target_values.shape)\n",
    "print(testing_sequences_reshaped.shape)\n",
    "print(testing_target.shape)"
   ]
  },
  {
   "cell_type": "code",
   "execution_count": null,
   "metadata": {
    "colab": {
     "base_uri": "https://localhost:8080/"
    },
    "id": "8a4-oW5S5DM5",
    "outputId": "737a92e0-5330-47dc-d720-18b24ad0af30"
   },
   "outputs": [
    {
     "name": "stdout",
     "output_type": "stream",
     "text": [
      "7/7 [==============================] - 0s 10ms/step\n",
      "7/7 [==============================] - 0s 11ms/step - loss: 357.5914 - mae: 18.8317\n",
      "Mean Squared Error (MSE): 357.59136962890625\n",
      "Mean Absolute Error (MAE): 18.831661224365234\n"
     ]
    }
   ],
   "source": [
    "# predictions = model.predict(testing_sequences_reshaped) #Predict on x_test\n",
    "loss, mae = model.evaluate(testing_sequences_reshaped, testing_target) #Evaluate x_test, y_test\n",
    "\n",
    "print(\"Mean Squared Error (MSE):\", loss)\n",
    "print(\"Mean Absolute Error (MAE):\", mae)"
   ]
  },
  {
   "cell_type": "code",
   "execution_count": null,
   "metadata": {
    "colab": {
     "base_uri": "https://localhost:8080/"
    },
    "id": "6Tq15OJL73ze",
    "outputId": "76b00632-2c75-461f-dd0a-1f0c7c98dac4"
   },
   "outputs": [
    {
     "data": {
      "text/plain": [
       "dict_keys(['loss', 'mae', 'val_loss', 'val_mae'])"
      ]
     },
     "execution_count": 58,
     "metadata": {},
     "output_type": "execute_result"
    }
   ],
   "source": [
    "history.history.keys()"
   ]
  },
  {
   "cell_type": "code",
   "execution_count": null,
   "metadata": {
    "colab": {
     "base_uri": "https://localhost:8080/",
     "height": 927
    },
    "id": "YyGDELgb7clp",
    "outputId": "83d30c59-8ae2-4bb9-a16a-120933815ca4"
   },
   "outputs": [
    {
     "data": {
      "image/png": "[encoded data removed]",
      "text/plain": [
       "<Figure size 640x480 with 1 Axes>"
      ]
     },
     "metadata": {},
     "output_type": "display_data"
    },
    {
     "data": {
      "image/png": "[encoded data removed]",
      "text/plain": [
       "<Figure size 640x480 with 1 Axes>"
      ]
     },
     "metadata": {},
     "output_type": "display_data"
    }
   ],
   "source": [
    "# Plot training & validation MAE values\n",
    "plt.plot(history.history['mae'], 'x-', label='Training MAE')\n",
    "plt.plot(history.history['val_mae'], 'x-', label='Validation MAE')\n",
    "plt.title('Mean Absolute Error')\n",
    "plt.ylabel('MAE')\n",
    "plt.xlabel('Epoch')\n",
    "plt.legend()\n",
    "plt.show()\n",
    "\n",
    "# Plot training & validation loss values\n",
    "plt.plot(history.history['loss'], 'x-', label='Training Loss')\n",
    "plt.plot(history.history['val_loss'], 'x-', label='Validation Loss')\n",
    "plt.title('Model Loss')\n",
    "plt.ylabel('Loss')\n",
    "plt.xlabel('Epoch')\n",
    "plt.legend()\n",
    "plt.show()"
   ]
  },
  {
   "cell_type": "markdown",
   "metadata": {
    "id": "abl53p8k8W6Q"
   },
   "source": [
    "Evaluating the performance of the LSTM model to predict the stock price for\n",
    "- DBS Group Holdings Ltd (D05.SI) SES - SES Delayed Price. Currency in SGD\n",
    "\n",
    "It is observed that as the number of Epochs increases, the Mean Absolute Error and model loss decreases for both the training and validation.\n",
    "\n",
    "Rating the current LSTM model set up with 128 dimensions and 51 Epochs, I will not recommend the deployment of this model to predict the price of this stock due to the following reasons.\n",
    "\n",
    "1) The Mean Absolute Error is 18.08 when the maximum and minimum price that the stock can take during year 2022 is between 29.75 to 37.49. This illustrates that any prediction is estimated to be off by + - 18.83 and within these small ranges of values, this model performance is significantly off and performing horribly.\n",
    "\n",
    "2) It is not recommend to purely use High and Volume to predict the High price of the stock as there may be other external factors that can affect the stock price (i.e., recent MAS regulation on DBS). Thus, some intervention analysis should be conducted as Yt cannot be fully explained by Yt-1 ... Yt-52.\n",
    "\n",
    "To improve the model performance, observing the training and validation trend\n",
    "- I would suggest further increasing the number of Epochs to observe whether the MAE drops to an acceptable value.\n",
    "- Next, I can also try increasing the number of Dimensions for h and c dimension for the model to learn more hidden complex patterns of the dataset.\n"
   ]
  },
  {
   "cell_type": "code",
   "execution_count": null,
   "metadata": {
    "id": "qtw_MLpo8j_Y"
   },
   "outputs": [],
   "source": []
  }
 ],
 "metadata": {
  "colab": {
   "provenance": []
  },
  "kernelspec": {
   "display_name": "Python 3 (ipykernel)",
   "language": "python",
   "name": "python3"
  },
  "language_info": {
   "codemirror_mode": {
    "name": "ipython",
    "version": 3
   },
   "file_extension": ".py",
   "mimetype": "text/x-python",
   "name": "python",
   "nbconvert_exporter": "python",
   "pygments_lexer": "ipython3",
   "version": "3.9.13"
  }
 },
 "nbformat": 4,
 "nbformat_minor": 1
}
